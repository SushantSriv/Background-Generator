{
  "nbformat": 4,
  "nbformat_minor": 0,
  "metadata": {
    "colab": {
      "provenance": [],
      "gpuType": "T4",
      "include_colab_link": true
    },
    "kernelspec": {
      "name": "python3",
      "display_name": "Python 3"
    },
    "language_info": {
      "name": "python"
    },
    "accelerator": "GPU",
    "widgets": {
      "application/vnd.jupyter.widget-state+json": {
        "b61cc6581ebc43a088bc9a0250fb211d": {
          "model_module": "@jupyter-widgets/controls",
          "model_name": "HBoxModel",
          "model_module_version": "1.5.0",
          "state": {
            "_dom_classes": [],
            "_model_module": "@jupyter-widgets/controls",
            "_model_module_version": "1.5.0",
            "_model_name": "HBoxModel",
            "_view_count": null,
            "_view_module": "@jupyter-widgets/controls",
            "_view_module_version": "1.5.0",
            "_view_name": "HBoxView",
            "box_style": "",
            "children": [
              "IPY_MODEL_e983a0d029c149d796ea5670a23beeb3",
              "IPY_MODEL_ac1cff2913ff4511a52486c073cb6eff",
              "IPY_MODEL_0249360177f247ee83f51c92f92a6cd9"
            ],
            "layout": "IPY_MODEL_7d44e71a3a664db3a38a9b06b2cd0ae1"
          }
        },
        "e983a0d029c149d796ea5670a23beeb3": {
          "model_module": "@jupyter-widgets/controls",
          "model_name": "HTMLModel",
          "model_module_version": "1.5.0",
          "state": {
            "_dom_classes": [],
            "_model_module": "@jupyter-widgets/controls",
            "_model_module_version": "1.5.0",
            "_model_name": "HTMLModel",
            "_view_count": null,
            "_view_module": "@jupyter-widgets/controls",
            "_view_module_version": "1.5.0",
            "_view_name": "HTMLView",
            "description": "",
            "description_tooltip": null,
            "layout": "IPY_MODEL_b56bfa30d14b43d8b0750b3ce768fc86",
            "placeholder": "​",
            "style": "IPY_MODEL_cdf951ab9bae47b7bb0a025418bec8f0",
            "value": "Dl Completed...: 100%"
          }
        },
        "ac1cff2913ff4511a52486c073cb6eff": {
          "model_module": "@jupyter-widgets/controls",
          "model_name": "FloatProgressModel",
          "model_module_version": "1.5.0",
          "state": {
            "_dom_classes": [],
            "_model_module": "@jupyter-widgets/controls",
            "_model_module_version": "1.5.0",
            "_model_name": "FloatProgressModel",
            "_view_count": null,
            "_view_module": "@jupyter-widgets/controls",
            "_view_module_version": "1.5.0",
            "_view_name": "ProgressView",
            "bar_style": "success",
            "description": "",
            "description_tooltip": null,
            "layout": "IPY_MODEL_0688ad143e50455594062b756ea4e81d",
            "max": 1,
            "min": 0,
            "orientation": "horizontal",
            "style": "IPY_MODEL_df8b70e0ff0240aa9b68d25a255dccd4",
            "value": 1
          }
        },
        "0249360177f247ee83f51c92f92a6cd9": {
          "model_module": "@jupyter-widgets/controls",
          "model_name": "HTMLModel",
          "model_module_version": "1.5.0",
          "state": {
            "_dom_classes": [],
            "_model_module": "@jupyter-widgets/controls",
            "_model_module_version": "1.5.0",
            "_model_name": "HTMLModel",
            "_view_count": null,
            "_view_module": "@jupyter-widgets/controls",
            "_view_module_version": "1.5.0",
            "_view_name": "HTMLView",
            "description": "",
            "description_tooltip": null,
            "layout": "IPY_MODEL_0c37d04c6d9f4762a5004055b27e1dd5",
            "placeholder": "​",
            "style": "IPY_MODEL_7fdede1523d4446696670c6af57121ca",
            "value": " 5/5 [00:28&lt;00:00,  9.03s/ url]"
          }
        },
        "7d44e71a3a664db3a38a9b06b2cd0ae1": {
          "model_module": "@jupyter-widgets/base",
          "model_name": "LayoutModel",
          "model_module_version": "1.2.0",
          "state": {
            "_model_module": "@jupyter-widgets/base",
            "_model_module_version": "1.2.0",
            "_model_name": "LayoutModel",
            "_view_count": null,
            "_view_module": "@jupyter-widgets/base",
            "_view_module_version": "1.2.0",
            "_view_name": "LayoutView",
            "align_content": null,
            "align_items": null,
            "align_self": null,
            "border": null,
            "bottom": null,
            "display": null,
            "flex": null,
            "flex_flow": null,
            "grid_area": null,
            "grid_auto_columns": null,
            "grid_auto_flow": null,
            "grid_auto_rows": null,
            "grid_column": null,
            "grid_gap": null,
            "grid_row": null,
            "grid_template_areas": null,
            "grid_template_columns": null,
            "grid_template_rows": null,
            "height": null,
            "justify_content": null,
            "justify_items": null,
            "left": null,
            "margin": null,
            "max_height": null,
            "max_width": null,
            "min_height": null,
            "min_width": null,
            "object_fit": null,
            "object_position": null,
            "order": null,
            "overflow": null,
            "overflow_x": null,
            "overflow_y": null,
            "padding": null,
            "right": null,
            "top": null,
            "visibility": null,
            "width": null
          }
        },
        "b56bfa30d14b43d8b0750b3ce768fc86": {
          "model_module": "@jupyter-widgets/base",
          "model_name": "LayoutModel",
          "model_module_version": "1.2.0",
          "state": {
            "_model_module": "@jupyter-widgets/base",
            "_model_module_version": "1.2.0",
            "_model_name": "LayoutModel",
            "_view_count": null,
            "_view_module": "@jupyter-widgets/base",
            "_view_module_version": "1.2.0",
            "_view_name": "LayoutView",
            "align_content": null,
            "align_items": null,
            "align_self": null,
            "border": null,
            "bottom": null,
            "display": null,
            "flex": null,
            "flex_flow": null,
            "grid_area": null,
            "grid_auto_columns": null,
            "grid_auto_flow": null,
            "grid_auto_rows": null,
            "grid_column": null,
            "grid_gap": null,
            "grid_row": null,
            "grid_template_areas": null,
            "grid_template_columns": null,
            "grid_template_rows": null,
            "height": null,
            "justify_content": null,
            "justify_items": null,
            "left": null,
            "margin": null,
            "max_height": null,
            "max_width": null,
            "min_height": null,
            "min_width": null,
            "object_fit": null,
            "object_position": null,
            "order": null,
            "overflow": null,
            "overflow_x": null,
            "overflow_y": null,
            "padding": null,
            "right": null,
            "top": null,
            "visibility": null,
            "width": null
          }
        },
        "cdf951ab9bae47b7bb0a025418bec8f0": {
          "model_module": "@jupyter-widgets/controls",
          "model_name": "DescriptionStyleModel",
          "model_module_version": "1.5.0",
          "state": {
            "_model_module": "@jupyter-widgets/controls",
            "_model_module_version": "1.5.0",
            "_model_name": "DescriptionStyleModel",
            "_view_count": null,
            "_view_module": "@jupyter-widgets/base",
            "_view_module_version": "1.2.0",
            "_view_name": "StyleView",
            "description_width": ""
          }
        },
        "0688ad143e50455594062b756ea4e81d": {
          "model_module": "@jupyter-widgets/base",
          "model_name": "LayoutModel",
          "model_module_version": "1.2.0",
          "state": {
            "_model_module": "@jupyter-widgets/base",
            "_model_module_version": "1.2.0",
            "_model_name": "LayoutModel",
            "_view_count": null,
            "_view_module": "@jupyter-widgets/base",
            "_view_module_version": "1.2.0",
            "_view_name": "LayoutView",
            "align_content": null,
            "align_items": null,
            "align_self": null,
            "border": null,
            "bottom": null,
            "display": null,
            "flex": null,
            "flex_flow": null,
            "grid_area": null,
            "grid_auto_columns": null,
            "grid_auto_flow": null,
            "grid_auto_rows": null,
            "grid_column": null,
            "grid_gap": null,
            "grid_row": null,
            "grid_template_areas": null,
            "grid_template_columns": null,
            "grid_template_rows": null,
            "height": null,
            "justify_content": null,
            "justify_items": null,
            "left": null,
            "margin": null,
            "max_height": null,
            "max_width": null,
            "min_height": null,
            "min_width": null,
            "object_fit": null,
            "object_position": null,
            "order": null,
            "overflow": null,
            "overflow_x": null,
            "overflow_y": null,
            "padding": null,
            "right": null,
            "top": null,
            "visibility": null,
            "width": "20px"
          }
        },
        "df8b70e0ff0240aa9b68d25a255dccd4": {
          "model_module": "@jupyter-widgets/controls",
          "model_name": "ProgressStyleModel",
          "model_module_version": "1.5.0",
          "state": {
            "_model_module": "@jupyter-widgets/controls",
            "_model_module_version": "1.5.0",
            "_model_name": "ProgressStyleModel",
            "_view_count": null,
            "_view_module": "@jupyter-widgets/base",
            "_view_module_version": "1.2.0",
            "_view_name": "StyleView",
            "bar_color": null,
            "description_width": ""
          }
        },
        "0c37d04c6d9f4762a5004055b27e1dd5": {
          "model_module": "@jupyter-widgets/base",
          "model_name": "LayoutModel",
          "model_module_version": "1.2.0",
          "state": {
            "_model_module": "@jupyter-widgets/base",
            "_model_module_version": "1.2.0",
            "_model_name": "LayoutModel",
            "_view_count": null,
            "_view_module": "@jupyter-widgets/base",
            "_view_module_version": "1.2.0",
            "_view_name": "LayoutView",
            "align_content": null,
            "align_items": null,
            "align_self": null,
            "border": null,
            "bottom": null,
            "display": null,
            "flex": null,
            "flex_flow": null,
            "grid_area": null,
            "grid_auto_columns": null,
            "grid_auto_flow": null,
            "grid_auto_rows": null,
            "grid_column": null,
            "grid_gap": null,
            "grid_row": null,
            "grid_template_areas": null,
            "grid_template_columns": null,
            "grid_template_rows": null,
            "height": null,
            "justify_content": null,
            "justify_items": null,
            "left": null,
            "margin": null,
            "max_height": null,
            "max_width": null,
            "min_height": null,
            "min_width": null,
            "object_fit": null,
            "object_position": null,
            "order": null,
            "overflow": null,
            "overflow_x": null,
            "overflow_y": null,
            "padding": null,
            "right": null,
            "top": null,
            "visibility": null,
            "width": null
          }
        },
        "7fdede1523d4446696670c6af57121ca": {
          "model_module": "@jupyter-widgets/controls",
          "model_name": "DescriptionStyleModel",
          "model_module_version": "1.5.0",
          "state": {
            "_model_module": "@jupyter-widgets/controls",
            "_model_module_version": "1.5.0",
            "_model_name": "DescriptionStyleModel",
            "_view_count": null,
            "_view_module": "@jupyter-widgets/base",
            "_view_module_version": "1.2.0",
            "_view_name": "StyleView",
            "description_width": ""
          }
        },
        "f6981007d9c545e09d9d542bbb1f7bdf": {
          "model_module": "@jupyter-widgets/controls",
          "model_name": "HBoxModel",
          "model_module_version": "1.5.0",
          "state": {
            "_dom_classes": [],
            "_model_module": "@jupyter-widgets/controls",
            "_model_module_version": "1.5.0",
            "_model_name": "HBoxModel",
            "_view_count": null,
            "_view_module": "@jupyter-widgets/controls",
            "_view_module_version": "1.5.0",
            "_view_name": "HBoxView",
            "box_style": "",
            "children": [
              "IPY_MODEL_40339e0d1d954c12ab4a31af8f132059",
              "IPY_MODEL_25da899218c94f35ad00a60d4f38cc27",
              "IPY_MODEL_419d6a237b4048d5a061aff7c7257c2c"
            ],
            "layout": "IPY_MODEL_cd018ea4c52845ab8ab07c702e01d4b9"
          }
        },
        "40339e0d1d954c12ab4a31af8f132059": {
          "model_module": "@jupyter-widgets/controls",
          "model_name": "HTMLModel",
          "model_module_version": "1.5.0",
          "state": {
            "_dom_classes": [],
            "_model_module": "@jupyter-widgets/controls",
            "_model_module_version": "1.5.0",
            "_model_name": "HTMLModel",
            "_view_count": null,
            "_view_module": "@jupyter-widgets/controls",
            "_view_module_version": "1.5.0",
            "_view_name": "HTMLView",
            "description": "",
            "description_tooltip": null,
            "layout": "IPY_MODEL_e077c1efc57d42dfa358243f5fbeb9bd",
            "placeholder": "​",
            "style": "IPY_MODEL_952521029b564a15bd579b57227459c7",
            "value": "Dl Size...: 100%"
          }
        },
        "25da899218c94f35ad00a60d4f38cc27": {
          "model_module": "@jupyter-widgets/controls",
          "model_name": "FloatProgressModel",
          "model_module_version": "1.5.0",
          "state": {
            "_dom_classes": [],
            "_model_module": "@jupyter-widgets/controls",
            "_model_module_version": "1.5.0",
            "_model_name": "FloatProgressModel",
            "_view_count": null,
            "_view_module": "@jupyter-widgets/controls",
            "_view_module_version": "1.5.0",
            "_view_name": "ProgressView",
            "bar_style": "success",
            "description": "",
            "description_tooltip": null,
            "layout": "IPY_MODEL_62de1b049214436ca2d891e4a00e17dd",
            "max": 1,
            "min": 0,
            "orientation": "horizontal",
            "style": "IPY_MODEL_6773d711716f42f882838db4fc4e7e92",
            "value": 1
          }
        },
        "419d6a237b4048d5a061aff7c7257c2c": {
          "model_module": "@jupyter-widgets/controls",
          "model_name": "HTMLModel",
          "model_module_version": "1.5.0",
          "state": {
            "_dom_classes": [],
            "_model_module": "@jupyter-widgets/controls",
            "_model_module_version": "1.5.0",
            "_model_name": "HTMLModel",
            "_view_count": null,
            "_view_module": "@jupyter-widgets/controls",
            "_view_module_version": "1.5.0",
            "_view_name": "HTMLView",
            "description": "",
            "description_tooltip": null,
            "layout": "IPY_MODEL_74d0a59ac824462ab2685d119d21b135",
            "placeholder": "​",
            "style": "IPY_MODEL_2b0a6d932572460cb7eb6988c90af968",
            "value": " 1417/1417 [00:28&lt;00:00, 50.56 MiB/s]"
          }
        },
        "cd018ea4c52845ab8ab07c702e01d4b9": {
          "model_module": "@jupyter-widgets/base",
          "model_name": "LayoutModel",
          "model_module_version": "1.2.0",
          "state": {
            "_model_module": "@jupyter-widgets/base",
            "_model_module_version": "1.2.0",
            "_model_name": "LayoutModel",
            "_view_count": null,
            "_view_module": "@jupyter-widgets/base",
            "_view_module_version": "1.2.0",
            "_view_name": "LayoutView",
            "align_content": null,
            "align_items": null,
            "align_self": null,
            "border": null,
            "bottom": null,
            "display": null,
            "flex": null,
            "flex_flow": null,
            "grid_area": null,
            "grid_auto_columns": null,
            "grid_auto_flow": null,
            "grid_auto_rows": null,
            "grid_column": null,
            "grid_gap": null,
            "grid_row": null,
            "grid_template_areas": null,
            "grid_template_columns": null,
            "grid_template_rows": null,
            "height": null,
            "justify_content": null,
            "justify_items": null,
            "left": null,
            "margin": null,
            "max_height": null,
            "max_width": null,
            "min_height": null,
            "min_width": null,
            "object_fit": null,
            "object_position": null,
            "order": null,
            "overflow": null,
            "overflow_x": null,
            "overflow_y": null,
            "padding": null,
            "right": null,
            "top": null,
            "visibility": null,
            "width": null
          }
        },
        "e077c1efc57d42dfa358243f5fbeb9bd": {
          "model_module": "@jupyter-widgets/base",
          "model_name": "LayoutModel",
          "model_module_version": "1.2.0",
          "state": {
            "_model_module": "@jupyter-widgets/base",
            "_model_module_version": "1.2.0",
            "_model_name": "LayoutModel",
            "_view_count": null,
            "_view_module": "@jupyter-widgets/base",
            "_view_module_version": "1.2.0",
            "_view_name": "LayoutView",
            "align_content": null,
            "align_items": null,
            "align_self": null,
            "border": null,
            "bottom": null,
            "display": null,
            "flex": null,
            "flex_flow": null,
            "grid_area": null,
            "grid_auto_columns": null,
            "grid_auto_flow": null,
            "grid_auto_rows": null,
            "grid_column": null,
            "grid_gap": null,
            "grid_row": null,
            "grid_template_areas": null,
            "grid_template_columns": null,
            "grid_template_rows": null,
            "height": null,
            "justify_content": null,
            "justify_items": null,
            "left": null,
            "margin": null,
            "max_height": null,
            "max_width": null,
            "min_height": null,
            "min_width": null,
            "object_fit": null,
            "object_position": null,
            "order": null,
            "overflow": null,
            "overflow_x": null,
            "overflow_y": null,
            "padding": null,
            "right": null,
            "top": null,
            "visibility": null,
            "width": null
          }
        },
        "952521029b564a15bd579b57227459c7": {
          "model_module": "@jupyter-widgets/controls",
          "model_name": "DescriptionStyleModel",
          "model_module_version": "1.5.0",
          "state": {
            "_model_module": "@jupyter-widgets/controls",
            "_model_module_version": "1.5.0",
            "_model_name": "DescriptionStyleModel",
            "_view_count": null,
            "_view_module": "@jupyter-widgets/base",
            "_view_module_version": "1.2.0",
            "_view_name": "StyleView",
            "description_width": ""
          }
        },
        "62de1b049214436ca2d891e4a00e17dd": {
          "model_module": "@jupyter-widgets/base",
          "model_name": "LayoutModel",
          "model_module_version": "1.2.0",
          "state": {
            "_model_module": "@jupyter-widgets/base",
            "_model_module_version": "1.2.0",
            "_model_name": "LayoutModel",
            "_view_count": null,
            "_view_module": "@jupyter-widgets/base",
            "_view_module_version": "1.2.0",
            "_view_name": "LayoutView",
            "align_content": null,
            "align_items": null,
            "align_self": null,
            "border": null,
            "bottom": null,
            "display": null,
            "flex": null,
            "flex_flow": null,
            "grid_area": null,
            "grid_auto_columns": null,
            "grid_auto_flow": null,
            "grid_auto_rows": null,
            "grid_column": null,
            "grid_gap": null,
            "grid_row": null,
            "grid_template_areas": null,
            "grid_template_columns": null,
            "grid_template_rows": null,
            "height": null,
            "justify_content": null,
            "justify_items": null,
            "left": null,
            "margin": null,
            "max_height": null,
            "max_width": null,
            "min_height": null,
            "min_width": null,
            "object_fit": null,
            "object_position": null,
            "order": null,
            "overflow": null,
            "overflow_x": null,
            "overflow_y": null,
            "padding": null,
            "right": null,
            "top": null,
            "visibility": null,
            "width": "20px"
          }
        },
        "6773d711716f42f882838db4fc4e7e92": {
          "model_module": "@jupyter-widgets/controls",
          "model_name": "ProgressStyleModel",
          "model_module_version": "1.5.0",
          "state": {
            "_model_module": "@jupyter-widgets/controls",
            "_model_module_version": "1.5.0",
            "_model_name": "ProgressStyleModel",
            "_view_count": null,
            "_view_module": "@jupyter-widgets/base",
            "_view_module_version": "1.2.0",
            "_view_name": "StyleView",
            "bar_color": null,
            "description_width": ""
          }
        },
        "74d0a59ac824462ab2685d119d21b135": {
          "model_module": "@jupyter-widgets/base",
          "model_name": "LayoutModel",
          "model_module_version": "1.2.0",
          "state": {
            "_model_module": "@jupyter-widgets/base",
            "_model_module_version": "1.2.0",
            "_model_name": "LayoutModel",
            "_view_count": null,
            "_view_module": "@jupyter-widgets/base",
            "_view_module_version": "1.2.0",
            "_view_name": "LayoutView",
            "align_content": null,
            "align_items": null,
            "align_self": null,
            "border": null,
            "bottom": null,
            "display": null,
            "flex": null,
            "flex_flow": null,
            "grid_area": null,
            "grid_auto_columns": null,
            "grid_auto_flow": null,
            "grid_auto_rows": null,
            "grid_column": null,
            "grid_gap": null,
            "grid_row": null,
            "grid_template_areas": null,
            "grid_template_columns": null,
            "grid_template_rows": null,
            "height": null,
            "justify_content": null,
            "justify_items": null,
            "left": null,
            "margin": null,
            "max_height": null,
            "max_width": null,
            "min_height": null,
            "min_width": null,
            "object_fit": null,
            "object_position": null,
            "order": null,
            "overflow": null,
            "overflow_x": null,
            "overflow_y": null,
            "padding": null,
            "right": null,
            "top": null,
            "visibility": null,
            "width": null
          }
        },
        "2b0a6d932572460cb7eb6988c90af968": {
          "model_module": "@jupyter-widgets/controls",
          "model_name": "DescriptionStyleModel",
          "model_module_version": "1.5.0",
          "state": {
            "_model_module": "@jupyter-widgets/controls",
            "_model_module_version": "1.5.0",
            "_model_name": "DescriptionStyleModel",
            "_view_count": null,
            "_view_module": "@jupyter-widgets/base",
            "_view_module_version": "1.2.0",
            "_view_name": "StyleView",
            "description_width": ""
          }
        },
        "d1bfddaf703a4753a4f774c1c429a0ee": {
          "model_module": "@jupyter-widgets/controls",
          "model_name": "HBoxModel",
          "model_module_version": "1.5.0",
          "state": {
            "_dom_classes": [],
            "_model_module": "@jupyter-widgets/controls",
            "_model_module_version": "1.5.0",
            "_model_name": "HBoxModel",
            "_view_count": null,
            "_view_module": "@jupyter-widgets/controls",
            "_view_module_version": "1.5.0",
            "_view_name": "HBoxView",
            "box_style": "",
            "children": [
              "IPY_MODEL_06e71d8ddc1d4fc6b5275b551b1f48b8",
              "IPY_MODEL_27f5032c281c4920bb447475fbb83dc5",
              "IPY_MODEL_663905b0347a4c8982960e101ee7e7a8"
            ],
            "layout": "IPY_MODEL_ee5271e549e24b2d9342b908bfbb6c36"
          }
        },
        "06e71d8ddc1d4fc6b5275b551b1f48b8": {
          "model_module": "@jupyter-widgets/controls",
          "model_name": "HTMLModel",
          "model_module_version": "1.5.0",
          "state": {
            "_dom_classes": [],
            "_model_module": "@jupyter-widgets/controls",
            "_model_module_version": "1.5.0",
            "_model_name": "HTMLModel",
            "_view_count": null,
            "_view_module": "@jupyter-widgets/controls",
            "_view_module_version": "1.5.0",
            "_view_name": "HTMLView",
            "description": "",
            "description_tooltip": null,
            "layout": "IPY_MODEL_ea9b6ec53b954b228952079dd0d2ac14",
            "placeholder": "​",
            "style": "IPY_MODEL_cadd35494cdf412498fbab0e20be1759",
            "value": "Generating splits...: 100%"
          }
        },
        "27f5032c281c4920bb447475fbb83dc5": {
          "model_module": "@jupyter-widgets/controls",
          "model_name": "FloatProgressModel",
          "model_module_version": "1.5.0",
          "state": {
            "_dom_classes": [],
            "_model_module": "@jupyter-widgets/controls",
            "_model_module_version": "1.5.0",
            "_model_name": "FloatProgressModel",
            "_view_count": null,
            "_view_module": "@jupyter-widgets/controls",
            "_view_module_version": "1.5.0",
            "_view_name": "ProgressView",
            "bar_style": "",
            "description": "",
            "description_tooltip": null,
            "layout": "IPY_MODEL_da5936a463c44fb49eb87d1785c6dbc5",
            "max": 3,
            "min": 0,
            "orientation": "horizontal",
            "style": "IPY_MODEL_0cf4e59cbf29440cb3598b87c01ca8c1",
            "value": 3
          }
        },
        "663905b0347a4c8982960e101ee7e7a8": {
          "model_module": "@jupyter-widgets/controls",
          "model_name": "HTMLModel",
          "model_module_version": "1.5.0",
          "state": {
            "_dom_classes": [],
            "_model_module": "@jupyter-widgets/controls",
            "_model_module_version": "1.5.0",
            "_model_name": "HTMLModel",
            "_view_count": null,
            "_view_module": "@jupyter-widgets/controls",
            "_view_module_version": "1.5.0",
            "_view_name": "HTMLView",
            "description": "",
            "description_tooltip": null,
            "layout": "IPY_MODEL_22eb87fcb8cd4a6787e06b3f9947e5bd",
            "placeholder": "​",
            "style": "IPY_MODEL_6cd4adcdfa8b473facb11e52fac7fd72",
            "value": " 3/3 [04:23&lt;00:00, 67.63s/ splits]"
          }
        },
        "ee5271e549e24b2d9342b908bfbb6c36": {
          "model_module": "@jupyter-widgets/base",
          "model_name": "LayoutModel",
          "model_module_version": "1.2.0",
          "state": {
            "_model_module": "@jupyter-widgets/base",
            "_model_module_version": "1.2.0",
            "_model_name": "LayoutModel",
            "_view_count": null,
            "_view_module": "@jupyter-widgets/base",
            "_view_module_version": "1.2.0",
            "_view_name": "LayoutView",
            "align_content": null,
            "align_items": null,
            "align_self": null,
            "border": null,
            "bottom": null,
            "display": null,
            "flex": null,
            "flex_flow": null,
            "grid_area": null,
            "grid_auto_columns": null,
            "grid_auto_flow": null,
            "grid_auto_rows": null,
            "grid_column": null,
            "grid_gap": null,
            "grid_row": null,
            "grid_template_areas": null,
            "grid_template_columns": null,
            "grid_template_rows": null,
            "height": null,
            "justify_content": null,
            "justify_items": null,
            "left": null,
            "margin": null,
            "max_height": null,
            "max_width": null,
            "min_height": null,
            "min_width": null,
            "object_fit": null,
            "object_position": null,
            "order": null,
            "overflow": null,
            "overflow_x": null,
            "overflow_y": null,
            "padding": null,
            "right": null,
            "top": null,
            "visibility": "hidden",
            "width": null
          }
        },
        "ea9b6ec53b954b228952079dd0d2ac14": {
          "model_module": "@jupyter-widgets/base",
          "model_name": "LayoutModel",
          "model_module_version": "1.2.0",
          "state": {
            "_model_module": "@jupyter-widgets/base",
            "_model_module_version": "1.2.0",
            "_model_name": "LayoutModel",
            "_view_count": null,
            "_view_module": "@jupyter-widgets/base",
            "_view_module_version": "1.2.0",
            "_view_name": "LayoutView",
            "align_content": null,
            "align_items": null,
            "align_self": null,
            "border": null,
            "bottom": null,
            "display": null,
            "flex": null,
            "flex_flow": null,
            "grid_area": null,
            "grid_auto_columns": null,
            "grid_auto_flow": null,
            "grid_auto_rows": null,
            "grid_column": null,
            "grid_gap": null,
            "grid_row": null,
            "grid_template_areas": null,
            "grid_template_columns": null,
            "grid_template_rows": null,
            "height": null,
            "justify_content": null,
            "justify_items": null,
            "left": null,
            "margin": null,
            "max_height": null,
            "max_width": null,
            "min_height": null,
            "min_width": null,
            "object_fit": null,
            "object_position": null,
            "order": null,
            "overflow": null,
            "overflow_x": null,
            "overflow_y": null,
            "padding": null,
            "right": null,
            "top": null,
            "visibility": null,
            "width": null
          }
        },
        "cadd35494cdf412498fbab0e20be1759": {
          "model_module": "@jupyter-widgets/controls",
          "model_name": "DescriptionStyleModel",
          "model_module_version": "1.5.0",
          "state": {
            "_model_module": "@jupyter-widgets/controls",
            "_model_module_version": "1.5.0",
            "_model_name": "DescriptionStyleModel",
            "_view_count": null,
            "_view_module": "@jupyter-widgets/base",
            "_view_module_version": "1.2.0",
            "_view_name": "StyleView",
            "description_width": ""
          }
        },
        "da5936a463c44fb49eb87d1785c6dbc5": {
          "model_module": "@jupyter-widgets/base",
          "model_name": "LayoutModel",
          "model_module_version": "1.2.0",
          "state": {
            "_model_module": "@jupyter-widgets/base",
            "_model_module_version": "1.2.0",
            "_model_name": "LayoutModel",
            "_view_count": null,
            "_view_module": "@jupyter-widgets/base",
            "_view_module_version": "1.2.0",
            "_view_name": "LayoutView",
            "align_content": null,
            "align_items": null,
            "align_self": null,
            "border": null,
            "bottom": null,
            "display": null,
            "flex": null,
            "flex_flow": null,
            "grid_area": null,
            "grid_auto_columns": null,
            "grid_auto_flow": null,
            "grid_auto_rows": null,
            "grid_column": null,
            "grid_gap": null,
            "grid_row": null,
            "grid_template_areas": null,
            "grid_template_columns": null,
            "grid_template_rows": null,
            "height": null,
            "justify_content": null,
            "justify_items": null,
            "left": null,
            "margin": null,
            "max_height": null,
            "max_width": null,
            "min_height": null,
            "min_width": null,
            "object_fit": null,
            "object_position": null,
            "order": null,
            "overflow": null,
            "overflow_x": null,
            "overflow_y": null,
            "padding": null,
            "right": null,
            "top": null,
            "visibility": null,
            "width": null
          }
        },
        "0cf4e59cbf29440cb3598b87c01ca8c1": {
          "model_module": "@jupyter-widgets/controls",
          "model_name": "ProgressStyleModel",
          "model_module_version": "1.5.0",
          "state": {
            "_model_module": "@jupyter-widgets/controls",
            "_model_module_version": "1.5.0",
            "_model_name": "ProgressStyleModel",
            "_view_count": null,
            "_view_module": "@jupyter-widgets/base",
            "_view_module_version": "1.2.0",
            "_view_name": "StyleView",
            "bar_color": null,
            "description_width": ""
          }
        },
        "22eb87fcb8cd4a6787e06b3f9947e5bd": {
          "model_module": "@jupyter-widgets/base",
          "model_name": "LayoutModel",
          "model_module_version": "1.2.0",
          "state": {
            "_model_module": "@jupyter-widgets/base",
            "_model_module_version": "1.2.0",
            "_model_name": "LayoutModel",
            "_view_count": null,
            "_view_module": "@jupyter-widgets/base",
            "_view_module_version": "1.2.0",
            "_view_name": "LayoutView",
            "align_content": null,
            "align_items": null,
            "align_self": null,
            "border": null,
            "bottom": null,
            "display": null,
            "flex": null,
            "flex_flow": null,
            "grid_area": null,
            "grid_auto_columns": null,
            "grid_auto_flow": null,
            "grid_auto_rows": null,
            "grid_column": null,
            "grid_gap": null,
            "grid_row": null,
            "grid_template_areas": null,
            "grid_template_columns": null,
            "grid_template_rows": null,
            "height": null,
            "justify_content": null,
            "justify_items": null,
            "left": null,
            "margin": null,
            "max_height": null,
            "max_width": null,
            "min_height": null,
            "min_width": null,
            "object_fit": null,
            "object_position": null,
            "order": null,
            "overflow": null,
            "overflow_x": null,
            "overflow_y": null,
            "padding": null,
            "right": null,
            "top": null,
            "visibility": null,
            "width": null
          }
        },
        "6cd4adcdfa8b473facb11e52fac7fd72": {
          "model_module": "@jupyter-widgets/controls",
          "model_name": "DescriptionStyleModel",
          "model_module_version": "1.5.0",
          "state": {
            "_model_module": "@jupyter-widgets/controls",
            "_model_module_version": "1.5.0",
            "_model_name": "DescriptionStyleModel",
            "_view_count": null,
            "_view_module": "@jupyter-widgets/base",
            "_view_module_version": "1.2.0",
            "_view_name": "StyleView",
            "description_width": ""
          }
        },
        "ab1517481c344bc6bb1b81c5639fa35c": {
          "model_module": "@jupyter-widgets/controls",
          "model_name": "HBoxModel",
          "model_module_version": "1.5.0",
          "state": {
            "_dom_classes": [],
            "_model_module": "@jupyter-widgets/controls",
            "_model_module_version": "1.5.0",
            "_model_name": "HBoxModel",
            "_view_count": null,
            "_view_module": "@jupyter-widgets/controls",
            "_view_module_version": "1.5.0",
            "_view_name": "HBoxView",
            "box_style": "",
            "children": [
              "IPY_MODEL_12b56f3fa94b490c909508b7b395722d",
              "IPY_MODEL_1662c5cc8d6b4a4d9431727b8657b760",
              "IPY_MODEL_308d5843a6f447bc960952928dc9d597"
            ],
            "layout": "IPY_MODEL_fc59f4591b8344289c363ae39bddf717"
          }
        },
        "12b56f3fa94b490c909508b7b395722d": {
          "model_module": "@jupyter-widgets/controls",
          "model_name": "HTMLModel",
          "model_module_version": "1.5.0",
          "state": {
            "_dom_classes": [],
            "_model_module": "@jupyter-widgets/controls",
            "_model_module_version": "1.5.0",
            "_model_name": "HTMLModel",
            "_view_count": null,
            "_view_module": "@jupyter-widgets/controls",
            "_view_module_version": "1.5.0",
            "_view_name": "HTMLView",
            "description": "",
            "description_tooltip": null,
            "layout": "IPY_MODEL_fdc7cf3c0c8140998357352d50346ccd",
            "placeholder": "​",
            "style": "IPY_MODEL_7fd0ea3364cf4ba9a80d8c61da78f80e",
            "value": "Generating train examples...: 100%"
          }
        },
        "1662c5cc8d6b4a4d9431727b8657b760": {
          "model_module": "@jupyter-widgets/controls",
          "model_name": "FloatProgressModel",
          "model_module_version": "1.5.0",
          "state": {
            "_dom_classes": [],
            "_model_module": "@jupyter-widgets/controls",
            "_model_module_version": "1.5.0",
            "_model_name": "FloatProgressModel",
            "_view_count": null,
            "_view_module": "@jupyter-widgets/controls",
            "_view_module_version": "1.5.0",
            "_view_name": "ProgressView",
            "bar_style": "",
            "description": "",
            "description_tooltip": null,
            "layout": "IPY_MODEL_f2600d615d464e4393b4365a84b7365a",
            "max": 162770,
            "min": 0,
            "orientation": "horizontal",
            "style": "IPY_MODEL_60db1d0cf6d74345aa09f0fa16095a1b",
            "value": 162770
          }
        },
        "308d5843a6f447bc960952928dc9d597": {
          "model_module": "@jupyter-widgets/controls",
          "model_name": "HTMLModel",
          "model_module_version": "1.5.0",
          "state": {
            "_dom_classes": [],
            "_model_module": "@jupyter-widgets/controls",
            "_model_module_version": "1.5.0",
            "_model_name": "HTMLModel",
            "_view_count": null,
            "_view_module": "@jupyter-widgets/controls",
            "_view_module_version": "1.5.0",
            "_view_name": "HTMLView",
            "description": "",
            "description_tooltip": null,
            "layout": "IPY_MODEL_8a7526fe657b4353b65caeb1b651b133",
            "placeholder": "​",
            "style": "IPY_MODEL_4dec7a68e04b41028df955c5e77df0c2",
            "value": " 162533/162770 [03:24&lt;00:00, 911.62 examples/s]"
          }
        },
        "fc59f4591b8344289c363ae39bddf717": {
          "model_module": "@jupyter-widgets/base",
          "model_name": "LayoutModel",
          "model_module_version": "1.2.0",
          "state": {
            "_model_module": "@jupyter-widgets/base",
            "_model_module_version": "1.2.0",
            "_model_name": "LayoutModel",
            "_view_count": null,
            "_view_module": "@jupyter-widgets/base",
            "_view_module_version": "1.2.0",
            "_view_name": "LayoutView",
            "align_content": null,
            "align_items": null,
            "align_self": null,
            "border": null,
            "bottom": null,
            "display": null,
            "flex": null,
            "flex_flow": null,
            "grid_area": null,
            "grid_auto_columns": null,
            "grid_auto_flow": null,
            "grid_auto_rows": null,
            "grid_column": null,
            "grid_gap": null,
            "grid_row": null,
            "grid_template_areas": null,
            "grid_template_columns": null,
            "grid_template_rows": null,
            "height": null,
            "justify_content": null,
            "justify_items": null,
            "left": null,
            "margin": null,
            "max_height": null,
            "max_width": null,
            "min_height": null,
            "min_width": null,
            "object_fit": null,
            "object_position": null,
            "order": null,
            "overflow": null,
            "overflow_x": null,
            "overflow_y": null,
            "padding": null,
            "right": null,
            "top": null,
            "visibility": "hidden",
            "width": null
          }
        },
        "fdc7cf3c0c8140998357352d50346ccd": {
          "model_module": "@jupyter-widgets/base",
          "model_name": "LayoutModel",
          "model_module_version": "1.2.0",
          "state": {
            "_model_module": "@jupyter-widgets/base",
            "_model_module_version": "1.2.0",
            "_model_name": "LayoutModel",
            "_view_count": null,
            "_view_module": "@jupyter-widgets/base",
            "_view_module_version": "1.2.0",
            "_view_name": "LayoutView",
            "align_content": null,
            "align_items": null,
            "align_self": null,
            "border": null,
            "bottom": null,
            "display": null,
            "flex": null,
            "flex_flow": null,
            "grid_area": null,
            "grid_auto_columns": null,
            "grid_auto_flow": null,
            "grid_auto_rows": null,
            "grid_column": null,
            "grid_gap": null,
            "grid_row": null,
            "grid_template_areas": null,
            "grid_template_columns": null,
            "grid_template_rows": null,
            "height": null,
            "justify_content": null,
            "justify_items": null,
            "left": null,
            "margin": null,
            "max_height": null,
            "max_width": null,
            "min_height": null,
            "min_width": null,
            "object_fit": null,
            "object_position": null,
            "order": null,
            "overflow": null,
            "overflow_x": null,
            "overflow_y": null,
            "padding": null,
            "right": null,
            "top": null,
            "visibility": null,
            "width": null
          }
        },
        "7fd0ea3364cf4ba9a80d8c61da78f80e": {
          "model_module": "@jupyter-widgets/controls",
          "model_name": "DescriptionStyleModel",
          "model_module_version": "1.5.0",
          "state": {
            "_model_module": "@jupyter-widgets/controls",
            "_model_module_version": "1.5.0",
            "_model_name": "DescriptionStyleModel",
            "_view_count": null,
            "_view_module": "@jupyter-widgets/base",
            "_view_module_version": "1.2.0",
            "_view_name": "StyleView",
            "description_width": ""
          }
        },
        "f2600d615d464e4393b4365a84b7365a": {
          "model_module": "@jupyter-widgets/base",
          "model_name": "LayoutModel",
          "model_module_version": "1.2.0",
          "state": {
            "_model_module": "@jupyter-widgets/base",
            "_model_module_version": "1.2.0",
            "_model_name": "LayoutModel",
            "_view_count": null,
            "_view_module": "@jupyter-widgets/base",
            "_view_module_version": "1.2.0",
            "_view_name": "LayoutView",
            "align_content": null,
            "align_items": null,
            "align_self": null,
            "border": null,
            "bottom": null,
            "display": null,
            "flex": null,
            "flex_flow": null,
            "grid_area": null,
            "grid_auto_columns": null,
            "grid_auto_flow": null,
            "grid_auto_rows": null,
            "grid_column": null,
            "grid_gap": null,
            "grid_row": null,
            "grid_template_areas": null,
            "grid_template_columns": null,
            "grid_template_rows": null,
            "height": null,
            "justify_content": null,
            "justify_items": null,
            "left": null,
            "margin": null,
            "max_height": null,
            "max_width": null,
            "min_height": null,
            "min_width": null,
            "object_fit": null,
            "object_position": null,
            "order": null,
            "overflow": null,
            "overflow_x": null,
            "overflow_y": null,
            "padding": null,
            "right": null,
            "top": null,
            "visibility": null,
            "width": null
          }
        },
        "60db1d0cf6d74345aa09f0fa16095a1b": {
          "model_module": "@jupyter-widgets/controls",
          "model_name": "ProgressStyleModel",
          "model_module_version": "1.5.0",
          "state": {
            "_model_module": "@jupyter-widgets/controls",
            "_model_module_version": "1.5.0",
            "_model_name": "ProgressStyleModel",
            "_view_count": null,
            "_view_module": "@jupyter-widgets/base",
            "_view_module_version": "1.2.0",
            "_view_name": "StyleView",
            "bar_color": null,
            "description_width": ""
          }
        },
        "8a7526fe657b4353b65caeb1b651b133": {
          "model_module": "@jupyter-widgets/base",
          "model_name": "LayoutModel",
          "model_module_version": "1.2.0",
          "state": {
            "_model_module": "@jupyter-widgets/base",
            "_model_module_version": "1.2.0",
            "_model_name": "LayoutModel",
            "_view_count": null,
            "_view_module": "@jupyter-widgets/base",
            "_view_module_version": "1.2.0",
            "_view_name": "LayoutView",
            "align_content": null,
            "align_items": null,
            "align_self": null,
            "border": null,
            "bottom": null,
            "display": null,
            "flex": null,
            "flex_flow": null,
            "grid_area": null,
            "grid_auto_columns": null,
            "grid_auto_flow": null,
            "grid_auto_rows": null,
            "grid_column": null,
            "grid_gap": null,
            "grid_row": null,
            "grid_template_areas": null,
            "grid_template_columns": null,
            "grid_template_rows": null,
            "height": null,
            "justify_content": null,
            "justify_items": null,
            "left": null,
            "margin": null,
            "max_height": null,
            "max_width": null,
            "min_height": null,
            "min_width": null,
            "object_fit": null,
            "object_position": null,
            "order": null,
            "overflow": null,
            "overflow_x": null,
            "overflow_y": null,
            "padding": null,
            "right": null,
            "top": null,
            "visibility": null,
            "width": null
          }
        },
        "4dec7a68e04b41028df955c5e77df0c2": {
          "model_module": "@jupyter-widgets/controls",
          "model_name": "DescriptionStyleModel",
          "model_module_version": "1.5.0",
          "state": {
            "_model_module": "@jupyter-widgets/controls",
            "_model_module_version": "1.5.0",
            "_model_name": "DescriptionStyleModel",
            "_view_count": null,
            "_view_module": "@jupyter-widgets/base",
            "_view_module_version": "1.2.0",
            "_view_name": "StyleView",
            "description_width": ""
          }
        },
        "224ca149d5b043d5a0455604bf29c461": {
          "model_module": "@jupyter-widgets/controls",
          "model_name": "HBoxModel",
          "model_module_version": "1.5.0",
          "state": {
            "_dom_classes": [],
            "_model_module": "@jupyter-widgets/controls",
            "_model_module_version": "1.5.0",
            "_model_name": "HBoxModel",
            "_view_count": null,
            "_view_module": "@jupyter-widgets/controls",
            "_view_module_version": "1.5.0",
            "_view_name": "HBoxView",
            "box_style": "",
            "children": [
              "IPY_MODEL_da34e24f46b64124bd3a7f9d4cf0bdad",
              "IPY_MODEL_9c90658c0fdd4129802b5c12b1b92277",
              "IPY_MODEL_621cf9d4f2a449ec85bdb88df4bb1fc2"
            ],
            "layout": "IPY_MODEL_74dd9d76802f494fab469757df24e938"
          }
        },
        "da34e24f46b64124bd3a7f9d4cf0bdad": {
          "model_module": "@jupyter-widgets/controls",
          "model_name": "HTMLModel",
          "model_module_version": "1.5.0",
          "state": {
            "_dom_classes": [],
            "_model_module": "@jupyter-widgets/controls",
            "_model_module_version": "1.5.0",
            "_model_name": "HTMLModel",
            "_view_count": null,
            "_view_module": "@jupyter-widgets/controls",
            "_view_module_version": "1.5.0",
            "_view_name": "HTMLView",
            "description": "",
            "description_tooltip": null,
            "layout": "IPY_MODEL_140f82aafaba49bfbaa0a10a6209b140",
            "placeholder": "​",
            "style": "IPY_MODEL_9eaedc72c4a349f0b4c0f2626910a511",
            "value": "Shuffling /root/tensorflow_datasets/celeb_a/2.1.0.incomplete8BGNL2/celeb_a-train.tfrecord*...:  99%"
          }
        },
        "9c90658c0fdd4129802b5c12b1b92277": {
          "model_module": "@jupyter-widgets/controls",
          "model_name": "FloatProgressModel",
          "model_module_version": "1.5.0",
          "state": {
            "_dom_classes": [],
            "_model_module": "@jupyter-widgets/controls",
            "_model_module_version": "1.5.0",
            "_model_name": "FloatProgressModel",
            "_view_count": null,
            "_view_module": "@jupyter-widgets/controls",
            "_view_module_version": "1.5.0",
            "_view_name": "ProgressView",
            "bar_style": "",
            "description": "",
            "description_tooltip": null,
            "layout": "IPY_MODEL_31040866e94e4c8bacdf71d70550cba9",
            "max": 162770,
            "min": 0,
            "orientation": "horizontal",
            "style": "IPY_MODEL_51335ede74074dea838d3684f0be4202",
            "value": 162770
          }
        },
        "621cf9d4f2a449ec85bdb88df4bb1fc2": {
          "model_module": "@jupyter-widgets/controls",
          "model_name": "HTMLModel",
          "model_module_version": "1.5.0",
          "state": {
            "_dom_classes": [],
            "_model_module": "@jupyter-widgets/controls",
            "_model_module_version": "1.5.0",
            "_model_name": "HTMLModel",
            "_view_count": null,
            "_view_module": "@jupyter-widgets/controls",
            "_view_module_version": "1.5.0",
            "_view_name": "HTMLView",
            "description": "",
            "description_tooltip": null,
            "layout": "IPY_MODEL_89604f92d16e4eec9c40ec7be036097d",
            "placeholder": "​",
            "style": "IPY_MODEL_4952723f4bf24202b1c2ea1b41299f2e",
            "value": " 161323/162770 [00:05&lt;00:00, 21729.80 examples/s]"
          }
        },
        "74dd9d76802f494fab469757df24e938": {
          "model_module": "@jupyter-widgets/base",
          "model_name": "LayoutModel",
          "model_module_version": "1.2.0",
          "state": {
            "_model_module": "@jupyter-widgets/base",
            "_model_module_version": "1.2.0",
            "_model_name": "LayoutModel",
            "_view_count": null,
            "_view_module": "@jupyter-widgets/base",
            "_view_module_version": "1.2.0",
            "_view_name": "LayoutView",
            "align_content": null,
            "align_items": null,
            "align_self": null,
            "border": null,
            "bottom": null,
            "display": null,
            "flex": null,
            "flex_flow": null,
            "grid_area": null,
            "grid_auto_columns": null,
            "grid_auto_flow": null,
            "grid_auto_rows": null,
            "grid_column": null,
            "grid_gap": null,
            "grid_row": null,
            "grid_template_areas": null,
            "grid_template_columns": null,
            "grid_template_rows": null,
            "height": null,
            "justify_content": null,
            "justify_items": null,
            "left": null,
            "margin": null,
            "max_height": null,
            "max_width": null,
            "min_height": null,
            "min_width": null,
            "object_fit": null,
            "object_position": null,
            "order": null,
            "overflow": null,
            "overflow_x": null,
            "overflow_y": null,
            "padding": null,
            "right": null,
            "top": null,
            "visibility": "hidden",
            "width": null
          }
        },
        "140f82aafaba49bfbaa0a10a6209b140": {
          "model_module": "@jupyter-widgets/base",
          "model_name": "LayoutModel",
          "model_module_version": "1.2.0",
          "state": {
            "_model_module": "@jupyter-widgets/base",
            "_model_module_version": "1.2.0",
            "_model_name": "LayoutModel",
            "_view_count": null,
            "_view_module": "@jupyter-widgets/base",
            "_view_module_version": "1.2.0",
            "_view_name": "LayoutView",
            "align_content": null,
            "align_items": null,
            "align_self": null,
            "border": null,
            "bottom": null,
            "display": null,
            "flex": null,
            "flex_flow": null,
            "grid_area": null,
            "grid_auto_columns": null,
            "grid_auto_flow": null,
            "grid_auto_rows": null,
            "grid_column": null,
            "grid_gap": null,
            "grid_row": null,
            "grid_template_areas": null,
            "grid_template_columns": null,
            "grid_template_rows": null,
            "height": null,
            "justify_content": null,
            "justify_items": null,
            "left": null,
            "margin": null,
            "max_height": null,
            "max_width": null,
            "min_height": null,
            "min_width": null,
            "object_fit": null,
            "object_position": null,
            "order": null,
            "overflow": null,
            "overflow_x": null,
            "overflow_y": null,
            "padding": null,
            "right": null,
            "top": null,
            "visibility": null,
            "width": null
          }
        },
        "9eaedc72c4a349f0b4c0f2626910a511": {
          "model_module": "@jupyter-widgets/controls",
          "model_name": "DescriptionStyleModel",
          "model_module_version": "1.5.0",
          "state": {
            "_model_module": "@jupyter-widgets/controls",
            "_model_module_version": "1.5.0",
            "_model_name": "DescriptionStyleModel",
            "_view_count": null,
            "_view_module": "@jupyter-widgets/base",
            "_view_module_version": "1.2.0",
            "_view_name": "StyleView",
            "description_width": ""
          }
        },
        "31040866e94e4c8bacdf71d70550cba9": {
          "model_module": "@jupyter-widgets/base",
          "model_name": "LayoutModel",
          "model_module_version": "1.2.0",
          "state": {
            "_model_module": "@jupyter-widgets/base",
            "_model_module_version": "1.2.0",
            "_model_name": "LayoutModel",
            "_view_count": null,
            "_view_module": "@jupyter-widgets/base",
            "_view_module_version": "1.2.0",
            "_view_name": "LayoutView",
            "align_content": null,
            "align_items": null,
            "align_self": null,
            "border": null,
            "bottom": null,
            "display": null,
            "flex": null,
            "flex_flow": null,
            "grid_area": null,
            "grid_auto_columns": null,
            "grid_auto_flow": null,
            "grid_auto_rows": null,
            "grid_column": null,
            "grid_gap": null,
            "grid_row": null,
            "grid_template_areas": null,
            "grid_template_columns": null,
            "grid_template_rows": null,
            "height": null,
            "justify_content": null,
            "justify_items": null,
            "left": null,
            "margin": null,
            "max_height": null,
            "max_width": null,
            "min_height": null,
            "min_width": null,
            "object_fit": null,
            "object_position": null,
            "order": null,
            "overflow": null,
            "overflow_x": null,
            "overflow_y": null,
            "padding": null,
            "right": null,
            "top": null,
            "visibility": null,
            "width": null
          }
        },
        "51335ede74074dea838d3684f0be4202": {
          "model_module": "@jupyter-widgets/controls",
          "model_name": "ProgressStyleModel",
          "model_module_version": "1.5.0",
          "state": {
            "_model_module": "@jupyter-widgets/controls",
            "_model_module_version": "1.5.0",
            "_model_name": "ProgressStyleModel",
            "_view_count": null,
            "_view_module": "@jupyter-widgets/base",
            "_view_module_version": "1.2.0",
            "_view_name": "StyleView",
            "bar_color": null,
            "description_width": ""
          }
        },
        "89604f92d16e4eec9c40ec7be036097d": {
          "model_module": "@jupyter-widgets/base",
          "model_name": "LayoutModel",
          "model_module_version": "1.2.0",
          "state": {
            "_model_module": "@jupyter-widgets/base",
            "_model_module_version": "1.2.0",
            "_model_name": "LayoutModel",
            "_view_count": null,
            "_view_module": "@jupyter-widgets/base",
            "_view_module_version": "1.2.0",
            "_view_name": "LayoutView",
            "align_content": null,
            "align_items": null,
            "align_self": null,
            "border": null,
            "bottom": null,
            "display": null,
            "flex": null,
            "flex_flow": null,
            "grid_area": null,
            "grid_auto_columns": null,
            "grid_auto_flow": null,
            "grid_auto_rows": null,
            "grid_column": null,
            "grid_gap": null,
            "grid_row": null,
            "grid_template_areas": null,
            "grid_template_columns": null,
            "grid_template_rows": null,
            "height": null,
            "justify_content": null,
            "justify_items": null,
            "left": null,
            "margin": null,
            "max_height": null,
            "max_width": null,
            "min_height": null,
            "min_width": null,
            "object_fit": null,
            "object_position": null,
            "order": null,
            "overflow": null,
            "overflow_x": null,
            "overflow_y": null,
            "padding": null,
            "right": null,
            "top": null,
            "visibility": null,
            "width": null
          }
        },
        "4952723f4bf24202b1c2ea1b41299f2e": {
          "model_module": "@jupyter-widgets/controls",
          "model_name": "DescriptionStyleModel",
          "model_module_version": "1.5.0",
          "state": {
            "_model_module": "@jupyter-widgets/controls",
            "_model_module_version": "1.5.0",
            "_model_name": "DescriptionStyleModel",
            "_view_count": null,
            "_view_module": "@jupyter-widgets/base",
            "_view_module_version": "1.2.0",
            "_view_name": "StyleView",
            "description_width": ""
          }
        },
        "5de8cad14ff445e4b0a27e7666d6477f": {
          "model_module": "@jupyter-widgets/controls",
          "model_name": "HBoxModel",
          "model_module_version": "1.5.0",
          "state": {
            "_dom_classes": [],
            "_model_module": "@jupyter-widgets/controls",
            "_model_module_version": "1.5.0",
            "_model_name": "HBoxModel",
            "_view_count": null,
            "_view_module": "@jupyter-widgets/controls",
            "_view_module_version": "1.5.0",
            "_view_name": "HBoxView",
            "box_style": "",
            "children": [
              "IPY_MODEL_521bd8b21d404394a2d5b443478494c1",
              "IPY_MODEL_158b7af226f54c90bc734e5270c4e27a",
              "IPY_MODEL_47cbaa33e2fd4e27b5e2f49b90d9108d"
            ],
            "layout": "IPY_MODEL_927068bf0abb4e87a59f6af31afe2a8b"
          }
        },
        "521bd8b21d404394a2d5b443478494c1": {
          "model_module": "@jupyter-widgets/controls",
          "model_name": "HTMLModel",
          "model_module_version": "1.5.0",
          "state": {
            "_dom_classes": [],
            "_model_module": "@jupyter-widgets/controls",
            "_model_module_version": "1.5.0",
            "_model_name": "HTMLModel",
            "_view_count": null,
            "_view_module": "@jupyter-widgets/controls",
            "_view_module_version": "1.5.0",
            "_view_name": "HTMLView",
            "description": "",
            "description_tooltip": null,
            "layout": "IPY_MODEL_2e3fd134697c4b15b04ef4ec6b11a2e2",
            "placeholder": "​",
            "style": "IPY_MODEL_8f3b23c4ef4a45ab8d8b41000c45bc2d",
            "value": "Generating validation examples...: 100%"
          }
        },
        "158b7af226f54c90bc734e5270c4e27a": {
          "model_module": "@jupyter-widgets/controls",
          "model_name": "FloatProgressModel",
          "model_module_version": "1.5.0",
          "state": {
            "_dom_classes": [],
            "_model_module": "@jupyter-widgets/controls",
            "_model_module_version": "1.5.0",
            "_model_name": "FloatProgressModel",
            "_view_count": null,
            "_view_module": "@jupyter-widgets/controls",
            "_view_module_version": "1.5.0",
            "_view_name": "ProgressView",
            "bar_style": "",
            "description": "",
            "description_tooltip": null,
            "layout": "IPY_MODEL_e2aef49a46f945e2abdf5241289ce5ec",
            "max": 19867,
            "min": 0,
            "orientation": "horizontal",
            "style": "IPY_MODEL_207a7eb3f72a4504b06832bdc7942464",
            "value": 19867
          }
        },
        "47cbaa33e2fd4e27b5e2f49b90d9108d": {
          "model_module": "@jupyter-widgets/controls",
          "model_name": "HTMLModel",
          "model_module_version": "1.5.0",
          "state": {
            "_dom_classes": [],
            "_model_module": "@jupyter-widgets/controls",
            "_model_module_version": "1.5.0",
            "_model_name": "HTMLModel",
            "_view_count": null,
            "_view_module": "@jupyter-widgets/controls",
            "_view_module_version": "1.5.0",
            "_view_name": "HTMLView",
            "description": "",
            "description_tooltip": null,
            "layout": "IPY_MODEL_07a498a822a94b8b8b34797f420f6383",
            "placeholder": "​",
            "style": "IPY_MODEL_d22bbe7ff94d4ad6828b42e8876d63f3",
            "value": " 19854/19867 [00:26&lt;00:00, 819.53 examples/s]"
          }
        },
        "927068bf0abb4e87a59f6af31afe2a8b": {
          "model_module": "@jupyter-widgets/base",
          "model_name": "LayoutModel",
          "model_module_version": "1.2.0",
          "state": {
            "_model_module": "@jupyter-widgets/base",
            "_model_module_version": "1.2.0",
            "_model_name": "LayoutModel",
            "_view_count": null,
            "_view_module": "@jupyter-widgets/base",
            "_view_module_version": "1.2.0",
            "_view_name": "LayoutView",
            "align_content": null,
            "align_items": null,
            "align_self": null,
            "border": null,
            "bottom": null,
            "display": null,
            "flex": null,
            "flex_flow": null,
            "grid_area": null,
            "grid_auto_columns": null,
            "grid_auto_flow": null,
            "grid_auto_rows": null,
            "grid_column": null,
            "grid_gap": null,
            "grid_row": null,
            "grid_template_areas": null,
            "grid_template_columns": null,
            "grid_template_rows": null,
            "height": null,
            "justify_content": null,
            "justify_items": null,
            "left": null,
            "margin": null,
            "max_height": null,
            "max_width": null,
            "min_height": null,
            "min_width": null,
            "object_fit": null,
            "object_position": null,
            "order": null,
            "overflow": null,
            "overflow_x": null,
            "overflow_y": null,
            "padding": null,
            "right": null,
            "top": null,
            "visibility": "hidden",
            "width": null
          }
        },
        "2e3fd134697c4b15b04ef4ec6b11a2e2": {
          "model_module": "@jupyter-widgets/base",
          "model_name": "LayoutModel",
          "model_module_version": "1.2.0",
          "state": {
            "_model_module": "@jupyter-widgets/base",
            "_model_module_version": "1.2.0",
            "_model_name": "LayoutModel",
            "_view_count": null,
            "_view_module": "@jupyter-widgets/base",
            "_view_module_version": "1.2.0",
            "_view_name": "LayoutView",
            "align_content": null,
            "align_items": null,
            "align_self": null,
            "border": null,
            "bottom": null,
            "display": null,
            "flex": null,
            "flex_flow": null,
            "grid_area": null,
            "grid_auto_columns": null,
            "grid_auto_flow": null,
            "grid_auto_rows": null,
            "grid_column": null,
            "grid_gap": null,
            "grid_row": null,
            "grid_template_areas": null,
            "grid_template_columns": null,
            "grid_template_rows": null,
            "height": null,
            "justify_content": null,
            "justify_items": null,
            "left": null,
            "margin": null,
            "max_height": null,
            "max_width": null,
            "min_height": null,
            "min_width": null,
            "object_fit": null,
            "object_position": null,
            "order": null,
            "overflow": null,
            "overflow_x": null,
            "overflow_y": null,
            "padding": null,
            "right": null,
            "top": null,
            "visibility": null,
            "width": null
          }
        },
        "8f3b23c4ef4a45ab8d8b41000c45bc2d": {
          "model_module": "@jupyter-widgets/controls",
          "model_name": "DescriptionStyleModel",
          "model_module_version": "1.5.0",
          "state": {
            "_model_module": "@jupyter-widgets/controls",
            "_model_module_version": "1.5.0",
            "_model_name": "DescriptionStyleModel",
            "_view_count": null,
            "_view_module": "@jupyter-widgets/base",
            "_view_module_version": "1.2.0",
            "_view_name": "StyleView",
            "description_width": ""
          }
        },
        "e2aef49a46f945e2abdf5241289ce5ec": {
          "model_module": "@jupyter-widgets/base",
          "model_name": "LayoutModel",
          "model_module_version": "1.2.0",
          "state": {
            "_model_module": "@jupyter-widgets/base",
            "_model_module_version": "1.2.0",
            "_model_name": "LayoutModel",
            "_view_count": null,
            "_view_module": "@jupyter-widgets/base",
            "_view_module_version": "1.2.0",
            "_view_name": "LayoutView",
            "align_content": null,
            "align_items": null,
            "align_self": null,
            "border": null,
            "bottom": null,
            "display": null,
            "flex": null,
            "flex_flow": null,
            "grid_area": null,
            "grid_auto_columns": null,
            "grid_auto_flow": null,
            "grid_auto_rows": null,
            "grid_column": null,
            "grid_gap": null,
            "grid_row": null,
            "grid_template_areas": null,
            "grid_template_columns": null,
            "grid_template_rows": null,
            "height": null,
            "justify_content": null,
            "justify_items": null,
            "left": null,
            "margin": null,
            "max_height": null,
            "max_width": null,
            "min_height": null,
            "min_width": null,
            "object_fit": null,
            "object_position": null,
            "order": null,
            "overflow": null,
            "overflow_x": null,
            "overflow_y": null,
            "padding": null,
            "right": null,
            "top": null,
            "visibility": null,
            "width": null
          }
        },
        "207a7eb3f72a4504b06832bdc7942464": {
          "model_module": "@jupyter-widgets/controls",
          "model_name": "ProgressStyleModel",
          "model_module_version": "1.5.0",
          "state": {
            "_model_module": "@jupyter-widgets/controls",
            "_model_module_version": "1.5.0",
            "_model_name": "ProgressStyleModel",
            "_view_count": null,
            "_view_module": "@jupyter-widgets/base",
            "_view_module_version": "1.2.0",
            "_view_name": "StyleView",
            "bar_color": null,
            "description_width": ""
          }
        },
        "07a498a822a94b8b8b34797f420f6383": {
          "model_module": "@jupyter-widgets/base",
          "model_name": "LayoutModel",
          "model_module_version": "1.2.0",
          "state": {
            "_model_module": "@jupyter-widgets/base",
            "_model_module_version": "1.2.0",
            "_model_name": "LayoutModel",
            "_view_count": null,
            "_view_module": "@jupyter-widgets/base",
            "_view_module_version": "1.2.0",
            "_view_name": "LayoutView",
            "align_content": null,
            "align_items": null,
            "align_self": null,
            "border": null,
            "bottom": null,
            "display": null,
            "flex": null,
            "flex_flow": null,
            "grid_area": null,
            "grid_auto_columns": null,
            "grid_auto_flow": null,
            "grid_auto_rows": null,
            "grid_column": null,
            "grid_gap": null,
            "grid_row": null,
            "grid_template_areas": null,
            "grid_template_columns": null,
            "grid_template_rows": null,
            "height": null,
            "justify_content": null,
            "justify_items": null,
            "left": null,
            "margin": null,
            "max_height": null,
            "max_width": null,
            "min_height": null,
            "min_width": null,
            "object_fit": null,
            "object_position": null,
            "order": null,
            "overflow": null,
            "overflow_x": null,
            "overflow_y": null,
            "padding": null,
            "right": null,
            "top": null,
            "visibility": null,
            "width": null
          }
        },
        "d22bbe7ff94d4ad6828b42e8876d63f3": {
          "model_module": "@jupyter-widgets/controls",
          "model_name": "DescriptionStyleModel",
          "model_module_version": "1.5.0",
          "state": {
            "_model_module": "@jupyter-widgets/controls",
            "_model_module_version": "1.5.0",
            "_model_name": "DescriptionStyleModel",
            "_view_count": null,
            "_view_module": "@jupyter-widgets/base",
            "_view_module_version": "1.2.0",
            "_view_name": "StyleView",
            "description_width": ""
          }
        },
        "ae04ead4f2234bf2a6bbe149cf9104bf": {
          "model_module": "@jupyter-widgets/controls",
          "model_name": "HBoxModel",
          "model_module_version": "1.5.0",
          "state": {
            "_dom_classes": [],
            "_model_module": "@jupyter-widgets/controls",
            "_model_module_version": "1.5.0",
            "_model_name": "HBoxModel",
            "_view_count": null,
            "_view_module": "@jupyter-widgets/controls",
            "_view_module_version": "1.5.0",
            "_view_name": "HBoxView",
            "box_style": "",
            "children": [
              "IPY_MODEL_c46295c7c50749f195507f26fd372296",
              "IPY_MODEL_1a8ef2ab98344c4eb383d1dd2c72e684",
              "IPY_MODEL_45cb8b09bf4642699abcb2cd3a1edf35"
            ],
            "layout": "IPY_MODEL_d365c22ccb5e451f82ccc386fccf65fc"
          }
        },
        "c46295c7c50749f195507f26fd372296": {
          "model_module": "@jupyter-widgets/controls",
          "model_name": "HTMLModel",
          "model_module_version": "1.5.0",
          "state": {
            "_dom_classes": [],
            "_model_module": "@jupyter-widgets/controls",
            "_model_module_version": "1.5.0",
            "_model_name": "HTMLModel",
            "_view_count": null,
            "_view_module": "@jupyter-widgets/controls",
            "_view_module_version": "1.5.0",
            "_view_name": "HTMLView",
            "description": "",
            "description_tooltip": null,
            "layout": "IPY_MODEL_279a4e023b5f49cea6b6ce056d5316c1",
            "placeholder": "​",
            "style": "IPY_MODEL_06f0a02edfdb424ea4cfdce8b28b009d",
            "value": "Shuffling /root/tensorflow_datasets/celeb_a/2.1.0.incomplete8BGNL2/celeb_a-validation.tfrecord*...: 100%"
          }
        },
        "1a8ef2ab98344c4eb383d1dd2c72e684": {
          "model_module": "@jupyter-widgets/controls",
          "model_name": "FloatProgressModel",
          "model_module_version": "1.5.0",
          "state": {
            "_dom_classes": [],
            "_model_module": "@jupyter-widgets/controls",
            "_model_module_version": "1.5.0",
            "_model_name": "FloatProgressModel",
            "_view_count": null,
            "_view_module": "@jupyter-widgets/controls",
            "_view_module_version": "1.5.0",
            "_view_name": "ProgressView",
            "bar_style": "",
            "description": "",
            "description_tooltip": null,
            "layout": "IPY_MODEL_97d5fd18a1994ba2b0ce8f93702b0f7b",
            "max": 19867,
            "min": 0,
            "orientation": "horizontal",
            "style": "IPY_MODEL_9f94eb3d20024ab49a84f387ab609598",
            "value": 19867
          }
        },
        "45cb8b09bf4642699abcb2cd3a1edf35": {
          "model_module": "@jupyter-widgets/controls",
          "model_name": "HTMLModel",
          "model_module_version": "1.5.0",
          "state": {
            "_dom_classes": [],
            "_model_module": "@jupyter-widgets/controls",
            "_model_module_version": "1.5.0",
            "_model_name": "HTMLModel",
            "_view_count": null,
            "_view_module": "@jupyter-widgets/controls",
            "_view_module_version": "1.5.0",
            "_view_name": "HTMLView",
            "description": "",
            "description_tooltip": null,
            "layout": "IPY_MODEL_4567228941484b2681bafcff6d1d7b7e",
            "placeholder": "​",
            "style": "IPY_MODEL_e914744c5a4a4d7e9890ce9c9b3c1de0",
            "value": " 19832/19867 [00:00&lt;00:00, 59692.96 examples/s]"
          }
        },
        "d365c22ccb5e451f82ccc386fccf65fc": {
          "model_module": "@jupyter-widgets/base",
          "model_name": "LayoutModel",
          "model_module_version": "1.2.0",
          "state": {
            "_model_module": "@jupyter-widgets/base",
            "_model_module_version": "1.2.0",
            "_model_name": "LayoutModel",
            "_view_count": null,
            "_view_module": "@jupyter-widgets/base",
            "_view_module_version": "1.2.0",
            "_view_name": "LayoutView",
            "align_content": null,
            "align_items": null,
            "align_self": null,
            "border": null,
            "bottom": null,
            "display": null,
            "flex": null,
            "flex_flow": null,
            "grid_area": null,
            "grid_auto_columns": null,
            "grid_auto_flow": null,
            "grid_auto_rows": null,
            "grid_column": null,
            "grid_gap": null,
            "grid_row": null,
            "grid_template_areas": null,
            "grid_template_columns": null,
            "grid_template_rows": null,
            "height": null,
            "justify_content": null,
            "justify_items": null,
            "left": null,
            "margin": null,
            "max_height": null,
            "max_width": null,
            "min_height": null,
            "min_width": null,
            "object_fit": null,
            "object_position": null,
            "order": null,
            "overflow": null,
            "overflow_x": null,
            "overflow_y": null,
            "padding": null,
            "right": null,
            "top": null,
            "visibility": "hidden",
            "width": null
          }
        },
        "279a4e023b5f49cea6b6ce056d5316c1": {
          "model_module": "@jupyter-widgets/base",
          "model_name": "LayoutModel",
          "model_module_version": "1.2.0",
          "state": {
            "_model_module": "@jupyter-widgets/base",
            "_model_module_version": "1.2.0",
            "_model_name": "LayoutModel",
            "_view_count": null,
            "_view_module": "@jupyter-widgets/base",
            "_view_module_version": "1.2.0",
            "_view_name": "LayoutView",
            "align_content": null,
            "align_items": null,
            "align_self": null,
            "border": null,
            "bottom": null,
            "display": null,
            "flex": null,
            "flex_flow": null,
            "grid_area": null,
            "grid_auto_columns": null,
            "grid_auto_flow": null,
            "grid_auto_rows": null,
            "grid_column": null,
            "grid_gap": null,
            "grid_row": null,
            "grid_template_areas": null,
            "grid_template_columns": null,
            "grid_template_rows": null,
            "height": null,
            "justify_content": null,
            "justify_items": null,
            "left": null,
            "margin": null,
            "max_height": null,
            "max_width": null,
            "min_height": null,
            "min_width": null,
            "object_fit": null,
            "object_position": null,
            "order": null,
            "overflow": null,
            "overflow_x": null,
            "overflow_y": null,
            "padding": null,
            "right": null,
            "top": null,
            "visibility": null,
            "width": null
          }
        },
        "06f0a02edfdb424ea4cfdce8b28b009d": {
          "model_module": "@jupyter-widgets/controls",
          "model_name": "DescriptionStyleModel",
          "model_module_version": "1.5.0",
          "state": {
            "_model_module": "@jupyter-widgets/controls",
            "_model_module_version": "1.5.0",
            "_model_name": "DescriptionStyleModel",
            "_view_count": null,
            "_view_module": "@jupyter-widgets/base",
            "_view_module_version": "1.2.0",
            "_view_name": "StyleView",
            "description_width": ""
          }
        },
        "97d5fd18a1994ba2b0ce8f93702b0f7b": {
          "model_module": "@jupyter-widgets/base",
          "model_name": "LayoutModel",
          "model_module_version": "1.2.0",
          "state": {
            "_model_module": "@jupyter-widgets/base",
            "_model_module_version": "1.2.0",
            "_model_name": "LayoutModel",
            "_view_count": null,
            "_view_module": "@jupyter-widgets/base",
            "_view_module_version": "1.2.0",
            "_view_name": "LayoutView",
            "align_content": null,
            "align_items": null,
            "align_self": null,
            "border": null,
            "bottom": null,
            "display": null,
            "flex": null,
            "flex_flow": null,
            "grid_area": null,
            "grid_auto_columns": null,
            "grid_auto_flow": null,
            "grid_auto_rows": null,
            "grid_column": null,
            "grid_gap": null,
            "grid_row": null,
            "grid_template_areas": null,
            "grid_template_columns": null,
            "grid_template_rows": null,
            "height": null,
            "justify_content": null,
            "justify_items": null,
            "left": null,
            "margin": null,
            "max_height": null,
            "max_width": null,
            "min_height": null,
            "min_width": null,
            "object_fit": null,
            "object_position": null,
            "order": null,
            "overflow": null,
            "overflow_x": null,
            "overflow_y": null,
            "padding": null,
            "right": null,
            "top": null,
            "visibility": null,
            "width": null
          }
        },
        "9f94eb3d20024ab49a84f387ab609598": {
          "model_module": "@jupyter-widgets/controls",
          "model_name": "ProgressStyleModel",
          "model_module_version": "1.5.0",
          "state": {
            "_model_module": "@jupyter-widgets/controls",
            "_model_module_version": "1.5.0",
            "_model_name": "ProgressStyleModel",
            "_view_count": null,
            "_view_module": "@jupyter-widgets/base",
            "_view_module_version": "1.2.0",
            "_view_name": "StyleView",
            "bar_color": null,
            "description_width": ""
          }
        },
        "4567228941484b2681bafcff6d1d7b7e": {
          "model_module": "@jupyter-widgets/base",
          "model_name": "LayoutModel",
          "model_module_version": "1.2.0",
          "state": {
            "_model_module": "@jupyter-widgets/base",
            "_model_module_version": "1.2.0",
            "_model_name": "LayoutModel",
            "_view_count": null,
            "_view_module": "@jupyter-widgets/base",
            "_view_module_version": "1.2.0",
            "_view_name": "LayoutView",
            "align_content": null,
            "align_items": null,
            "align_self": null,
            "border": null,
            "bottom": null,
            "display": null,
            "flex": null,
            "flex_flow": null,
            "grid_area": null,
            "grid_auto_columns": null,
            "grid_auto_flow": null,
            "grid_auto_rows": null,
            "grid_column": null,
            "grid_gap": null,
            "grid_row": null,
            "grid_template_areas": null,
            "grid_template_columns": null,
            "grid_template_rows": null,
            "height": null,
            "justify_content": null,
            "justify_items": null,
            "left": null,
            "margin": null,
            "max_height": null,
            "max_width": null,
            "min_height": null,
            "min_width": null,
            "object_fit": null,
            "object_position": null,
            "order": null,
            "overflow": null,
            "overflow_x": null,
            "overflow_y": null,
            "padding": null,
            "right": null,
            "top": null,
            "visibility": null,
            "width": null
          }
        },
        "e914744c5a4a4d7e9890ce9c9b3c1de0": {
          "model_module": "@jupyter-widgets/controls",
          "model_name": "DescriptionStyleModel",
          "model_module_version": "1.5.0",
          "state": {
            "_model_module": "@jupyter-widgets/controls",
            "_model_module_version": "1.5.0",
            "_model_name": "DescriptionStyleModel",
            "_view_count": null,
            "_view_module": "@jupyter-widgets/base",
            "_view_module_version": "1.2.0",
            "_view_name": "StyleView",
            "description_width": ""
          }
        },
        "8913f1f0c4d243409fa18fb3d515dba1": {
          "model_module": "@jupyter-widgets/controls",
          "model_name": "HBoxModel",
          "model_module_version": "1.5.0",
          "state": {
            "_dom_classes": [],
            "_model_module": "@jupyter-widgets/controls",
            "_model_module_version": "1.5.0",
            "_model_name": "HBoxModel",
            "_view_count": null,
            "_view_module": "@jupyter-widgets/controls",
            "_view_module_version": "1.5.0",
            "_view_name": "HBoxView",
            "box_style": "",
            "children": [
              "IPY_MODEL_de4e76110da2433988082fc7cc3b3204",
              "IPY_MODEL_667a11232e474f30af68f010e9f5fc33",
              "IPY_MODEL_7abc72462e234e43b68120bf5caef56f"
            ],
            "layout": "IPY_MODEL_c7a16ef79f5d4a5b86ab3e38022d2432"
          }
        },
        "de4e76110da2433988082fc7cc3b3204": {
          "model_module": "@jupyter-widgets/controls",
          "model_name": "HTMLModel",
          "model_module_version": "1.5.0",
          "state": {
            "_dom_classes": [],
            "_model_module": "@jupyter-widgets/controls",
            "_model_module_version": "1.5.0",
            "_model_name": "HTMLModel",
            "_view_count": null,
            "_view_module": "@jupyter-widgets/controls",
            "_view_module_version": "1.5.0",
            "_view_name": "HTMLView",
            "description": "",
            "description_tooltip": null,
            "layout": "IPY_MODEL_148570c268ad44d5868c255fa7ca5b30",
            "placeholder": "​",
            "style": "IPY_MODEL_3e1bf03195ea4ea58bd1818000719eb5",
            "value": "Generating test examples...:  97%"
          }
        },
        "667a11232e474f30af68f010e9f5fc33": {
          "model_module": "@jupyter-widgets/controls",
          "model_name": "FloatProgressModel",
          "model_module_version": "1.5.0",
          "state": {
            "_dom_classes": [],
            "_model_module": "@jupyter-widgets/controls",
            "_model_module_version": "1.5.0",
            "_model_name": "FloatProgressModel",
            "_view_count": null,
            "_view_module": "@jupyter-widgets/controls",
            "_view_module_version": "1.5.0",
            "_view_name": "ProgressView",
            "bar_style": "",
            "description": "",
            "description_tooltip": null,
            "layout": "IPY_MODEL_b385874af6a74a40aa9cb03b3c3244fe",
            "max": 19962,
            "min": 0,
            "orientation": "horizontal",
            "style": "IPY_MODEL_1a603ca37f84409bb1337e6c460e613b",
            "value": 19962
          }
        },
        "7abc72462e234e43b68120bf5caef56f": {
          "model_module": "@jupyter-widgets/controls",
          "model_name": "HTMLModel",
          "model_module_version": "1.5.0",
          "state": {
            "_dom_classes": [],
            "_model_module": "@jupyter-widgets/controls",
            "_model_module_version": "1.5.0",
            "_model_name": "HTMLModel",
            "_view_count": null,
            "_view_module": "@jupyter-widgets/controls",
            "_view_module_version": "1.5.0",
            "_view_name": "HTMLView",
            "description": "",
            "description_tooltip": null,
            "layout": "IPY_MODEL_92dc2b384cf74fafbc677843e52b2299",
            "placeholder": "​",
            "style": "IPY_MODEL_83c457786b2848ae889d62d8d922d5ad",
            "value": " 19279/19962 [00:24&lt;00:00, 835.55 examples/s]"
          }
        },
        "c7a16ef79f5d4a5b86ab3e38022d2432": {
          "model_module": "@jupyter-widgets/base",
          "model_name": "LayoutModel",
          "model_module_version": "1.2.0",
          "state": {
            "_model_module": "@jupyter-widgets/base",
            "_model_module_version": "1.2.0",
            "_model_name": "LayoutModel",
            "_view_count": null,
            "_view_module": "@jupyter-widgets/base",
            "_view_module_version": "1.2.0",
            "_view_name": "LayoutView",
            "align_content": null,
            "align_items": null,
            "align_self": null,
            "border": null,
            "bottom": null,
            "display": null,
            "flex": null,
            "flex_flow": null,
            "grid_area": null,
            "grid_auto_columns": null,
            "grid_auto_flow": null,
            "grid_auto_rows": null,
            "grid_column": null,
            "grid_gap": null,
            "grid_row": null,
            "grid_template_areas": null,
            "grid_template_columns": null,
            "grid_template_rows": null,
            "height": null,
            "justify_content": null,
            "justify_items": null,
            "left": null,
            "margin": null,
            "max_height": null,
            "max_width": null,
            "min_height": null,
            "min_width": null,
            "object_fit": null,
            "object_position": null,
            "order": null,
            "overflow": null,
            "overflow_x": null,
            "overflow_y": null,
            "padding": null,
            "right": null,
            "top": null,
            "visibility": "hidden",
            "width": null
          }
        },
        "148570c268ad44d5868c255fa7ca5b30": {
          "model_module": "@jupyter-widgets/base",
          "model_name": "LayoutModel",
          "model_module_version": "1.2.0",
          "state": {
            "_model_module": "@jupyter-widgets/base",
            "_model_module_version": "1.2.0",
            "_model_name": "LayoutModel",
            "_view_count": null,
            "_view_module": "@jupyter-widgets/base",
            "_view_module_version": "1.2.0",
            "_view_name": "LayoutView",
            "align_content": null,
            "align_items": null,
            "align_self": null,
            "border": null,
            "bottom": null,
            "display": null,
            "flex": null,
            "flex_flow": null,
            "grid_area": null,
            "grid_auto_columns": null,
            "grid_auto_flow": null,
            "grid_auto_rows": null,
            "grid_column": null,
            "grid_gap": null,
            "grid_row": null,
            "grid_template_areas": null,
            "grid_template_columns": null,
            "grid_template_rows": null,
            "height": null,
            "justify_content": null,
            "justify_items": null,
            "left": null,
            "margin": null,
            "max_height": null,
            "max_width": null,
            "min_height": null,
            "min_width": null,
            "object_fit": null,
            "object_position": null,
            "order": null,
            "overflow": null,
            "overflow_x": null,
            "overflow_y": null,
            "padding": null,
            "right": null,
            "top": null,
            "visibility": null,
            "width": null
          }
        },
        "3e1bf03195ea4ea58bd1818000719eb5": {
          "model_module": "@jupyter-widgets/controls",
          "model_name": "DescriptionStyleModel",
          "model_module_version": "1.5.0",
          "state": {
            "_model_module": "@jupyter-widgets/controls",
            "_model_module_version": "1.5.0",
            "_model_name": "DescriptionStyleModel",
            "_view_count": null,
            "_view_module": "@jupyter-widgets/base",
            "_view_module_version": "1.2.0",
            "_view_name": "StyleView",
            "description_width": ""
          }
        },
        "b385874af6a74a40aa9cb03b3c3244fe": {
          "model_module": "@jupyter-widgets/base",
          "model_name": "LayoutModel",
          "model_module_version": "1.2.0",
          "state": {
            "_model_module": "@jupyter-widgets/base",
            "_model_module_version": "1.2.0",
            "_model_name": "LayoutModel",
            "_view_count": null,
            "_view_module": "@jupyter-widgets/base",
            "_view_module_version": "1.2.0",
            "_view_name": "LayoutView",
            "align_content": null,
            "align_items": null,
            "align_self": null,
            "border": null,
            "bottom": null,
            "display": null,
            "flex": null,
            "flex_flow": null,
            "grid_area": null,
            "grid_auto_columns": null,
            "grid_auto_flow": null,
            "grid_auto_rows": null,
            "grid_column": null,
            "grid_gap": null,
            "grid_row": null,
            "grid_template_areas": null,
            "grid_template_columns": null,
            "grid_template_rows": null,
            "height": null,
            "justify_content": null,
            "justify_items": null,
            "left": null,
            "margin": null,
            "max_height": null,
            "max_width": null,
            "min_height": null,
            "min_width": null,
            "object_fit": null,
            "object_position": null,
            "order": null,
            "overflow": null,
            "overflow_x": null,
            "overflow_y": null,
            "padding": null,
            "right": null,
            "top": null,
            "visibility": null,
            "width": null
          }
        },
        "1a603ca37f84409bb1337e6c460e613b": {
          "model_module": "@jupyter-widgets/controls",
          "model_name": "ProgressStyleModel",
          "model_module_version": "1.5.0",
          "state": {
            "_model_module": "@jupyter-widgets/controls",
            "_model_module_version": "1.5.0",
            "_model_name": "ProgressStyleModel",
            "_view_count": null,
            "_view_module": "@jupyter-widgets/base",
            "_view_module_version": "1.2.0",
            "_view_name": "StyleView",
            "bar_color": null,
            "description_width": ""
          }
        },
        "92dc2b384cf74fafbc677843e52b2299": {
          "model_module": "@jupyter-widgets/base",
          "model_name": "LayoutModel",
          "model_module_version": "1.2.0",
          "state": {
            "_model_module": "@jupyter-widgets/base",
            "_model_module_version": "1.2.0",
            "_model_name": "LayoutModel",
            "_view_count": null,
            "_view_module": "@jupyter-widgets/base",
            "_view_module_version": "1.2.0",
            "_view_name": "LayoutView",
            "align_content": null,
            "align_items": null,
            "align_self": null,
            "border": null,
            "bottom": null,
            "display": null,
            "flex": null,
            "flex_flow": null,
            "grid_area": null,
            "grid_auto_columns": null,
            "grid_auto_flow": null,
            "grid_auto_rows": null,
            "grid_column": null,
            "grid_gap": null,
            "grid_row": null,
            "grid_template_areas": null,
            "grid_template_columns": null,
            "grid_template_rows": null,
            "height": null,
            "justify_content": null,
            "justify_items": null,
            "left": null,
            "margin": null,
            "max_height": null,
            "max_width": null,
            "min_height": null,
            "min_width": null,
            "object_fit": null,
            "object_position": null,
            "order": null,
            "overflow": null,
            "overflow_x": null,
            "overflow_y": null,
            "padding": null,
            "right": null,
            "top": null,
            "visibility": null,
            "width": null
          }
        },
        "83c457786b2848ae889d62d8d922d5ad": {
          "model_module": "@jupyter-widgets/controls",
          "model_name": "DescriptionStyleModel",
          "model_module_version": "1.5.0",
          "state": {
            "_model_module": "@jupyter-widgets/controls",
            "_model_module_version": "1.5.0",
            "_model_name": "DescriptionStyleModel",
            "_view_count": null,
            "_view_module": "@jupyter-widgets/base",
            "_view_module_version": "1.2.0",
            "_view_name": "StyleView",
            "description_width": ""
          }
        },
        "deb3f29bf573419895260b179c45286c": {
          "model_module": "@jupyter-widgets/controls",
          "model_name": "HBoxModel",
          "model_module_version": "1.5.0",
          "state": {
            "_dom_classes": [],
            "_model_module": "@jupyter-widgets/controls",
            "_model_module_version": "1.5.0",
            "_model_name": "HBoxModel",
            "_view_count": null,
            "_view_module": "@jupyter-widgets/controls",
            "_view_module_version": "1.5.0",
            "_view_name": "HBoxView",
            "box_style": "",
            "children": [
              "IPY_MODEL_ab18dcac21d44af6b94ed827109248f6",
              "IPY_MODEL_61f04ad237244aab93e84965f4c18f7e",
              "IPY_MODEL_c413e97cedd64fb89d2c07fc6d5aa581"
            ],
            "layout": "IPY_MODEL_25faf60027f6442c885846625fa5be7f"
          }
        },
        "ab18dcac21d44af6b94ed827109248f6": {
          "model_module": "@jupyter-widgets/controls",
          "model_name": "HTMLModel",
          "model_module_version": "1.5.0",
          "state": {
            "_dom_classes": [],
            "_model_module": "@jupyter-widgets/controls",
            "_model_module_version": "1.5.0",
            "_model_name": "HTMLModel",
            "_view_count": null,
            "_view_module": "@jupyter-widgets/controls",
            "_view_module_version": "1.5.0",
            "_view_name": "HTMLView",
            "description": "",
            "description_tooltip": null,
            "layout": "IPY_MODEL_820ec25212ad49c38fcd51cba30f0a6f",
            "placeholder": "​",
            "style": "IPY_MODEL_956180e4a9d64cefbe25bfb0c1968b9f",
            "value": "Shuffling /root/tensorflow_datasets/celeb_a/2.1.0.incomplete8BGNL2/celeb_a-test.tfrecord*...:  67%"
          }
        },
        "61f04ad237244aab93e84965f4c18f7e": {
          "model_module": "@jupyter-widgets/controls",
          "model_name": "FloatProgressModel",
          "model_module_version": "1.5.0",
          "state": {
            "_dom_classes": [],
            "_model_module": "@jupyter-widgets/controls",
            "_model_module_version": "1.5.0",
            "_model_name": "FloatProgressModel",
            "_view_count": null,
            "_view_module": "@jupyter-widgets/controls",
            "_view_module_version": "1.5.0",
            "_view_name": "ProgressView",
            "bar_style": "",
            "description": "",
            "description_tooltip": null,
            "layout": "IPY_MODEL_bf18f6456660464b8969dd94933623fb",
            "max": 19962,
            "min": 0,
            "orientation": "horizontal",
            "style": "IPY_MODEL_60bbe9e70a144b84ac3cf0831a74400d",
            "value": 19962
          }
        },
        "c413e97cedd64fb89d2c07fc6d5aa581": {
          "model_module": "@jupyter-widgets/controls",
          "model_name": "HTMLModel",
          "model_module_version": "1.5.0",
          "state": {
            "_dom_classes": [],
            "_model_module": "@jupyter-widgets/controls",
            "_model_module_version": "1.5.0",
            "_model_name": "HTMLModel",
            "_view_count": null,
            "_view_module": "@jupyter-widgets/controls",
            "_view_module_version": "1.5.0",
            "_view_name": "HTMLView",
            "description": "",
            "description_tooltip": null,
            "layout": "IPY_MODEL_165d032b80384512afbce67a54c6cd5e",
            "placeholder": "​",
            "style": "IPY_MODEL_4ac32d2d648f4d5cbcf3a8f9e59cb85a",
            "value": " 13377/19962 [00:00&lt;00:00, 69528.87 examples/s]"
          }
        },
        "25faf60027f6442c885846625fa5be7f": {
          "model_module": "@jupyter-widgets/base",
          "model_name": "LayoutModel",
          "model_module_version": "1.2.0",
          "state": {
            "_model_module": "@jupyter-widgets/base",
            "_model_module_version": "1.2.0",
            "_model_name": "LayoutModel",
            "_view_count": null,
            "_view_module": "@jupyter-widgets/base",
            "_view_module_version": "1.2.0",
            "_view_name": "LayoutView",
            "align_content": null,
            "align_items": null,
            "align_self": null,
            "border": null,
            "bottom": null,
            "display": null,
            "flex": null,
            "flex_flow": null,
            "grid_area": null,
            "grid_auto_columns": null,
            "grid_auto_flow": null,
            "grid_auto_rows": null,
            "grid_column": null,
            "grid_gap": null,
            "grid_row": null,
            "grid_template_areas": null,
            "grid_template_columns": null,
            "grid_template_rows": null,
            "height": null,
            "justify_content": null,
            "justify_items": null,
            "left": null,
            "margin": null,
            "max_height": null,
            "max_width": null,
            "min_height": null,
            "min_width": null,
            "object_fit": null,
            "object_position": null,
            "order": null,
            "overflow": null,
            "overflow_x": null,
            "overflow_y": null,
            "padding": null,
            "right": null,
            "top": null,
            "visibility": "hidden",
            "width": null
          }
        },
        "820ec25212ad49c38fcd51cba30f0a6f": {
          "model_module": "@jupyter-widgets/base",
          "model_name": "LayoutModel",
          "model_module_version": "1.2.0",
          "state": {
            "_model_module": "@jupyter-widgets/base",
            "_model_module_version": "1.2.0",
            "_model_name": "LayoutModel",
            "_view_count": null,
            "_view_module": "@jupyter-widgets/base",
            "_view_module_version": "1.2.0",
            "_view_name": "LayoutView",
            "align_content": null,
            "align_items": null,
            "align_self": null,
            "border": null,
            "bottom": null,
            "display": null,
            "flex": null,
            "flex_flow": null,
            "grid_area": null,
            "grid_auto_columns": null,
            "grid_auto_flow": null,
            "grid_auto_rows": null,
            "grid_column": null,
            "grid_gap": null,
            "grid_row": null,
            "grid_template_areas": null,
            "grid_template_columns": null,
            "grid_template_rows": null,
            "height": null,
            "justify_content": null,
            "justify_items": null,
            "left": null,
            "margin": null,
            "max_height": null,
            "max_width": null,
            "min_height": null,
            "min_width": null,
            "object_fit": null,
            "object_position": null,
            "order": null,
            "overflow": null,
            "overflow_x": null,
            "overflow_y": null,
            "padding": null,
            "right": null,
            "top": null,
            "visibility": null,
            "width": null
          }
        },
        "956180e4a9d64cefbe25bfb0c1968b9f": {
          "model_module": "@jupyter-widgets/controls",
          "model_name": "DescriptionStyleModel",
          "model_module_version": "1.5.0",
          "state": {
            "_model_module": "@jupyter-widgets/controls",
            "_model_module_version": "1.5.0",
            "_model_name": "DescriptionStyleModel",
            "_view_count": null,
            "_view_module": "@jupyter-widgets/base",
            "_view_module_version": "1.2.0",
            "_view_name": "StyleView",
            "description_width": ""
          }
        },
        "bf18f6456660464b8969dd94933623fb": {
          "model_module": "@jupyter-widgets/base",
          "model_name": "LayoutModel",
          "model_module_version": "1.2.0",
          "state": {
            "_model_module": "@jupyter-widgets/base",
            "_model_module_version": "1.2.0",
            "_model_name": "LayoutModel",
            "_view_count": null,
            "_view_module": "@jupyter-widgets/base",
            "_view_module_version": "1.2.0",
            "_view_name": "LayoutView",
            "align_content": null,
            "align_items": null,
            "align_self": null,
            "border": null,
            "bottom": null,
            "display": null,
            "flex": null,
            "flex_flow": null,
            "grid_area": null,
            "grid_auto_columns": null,
            "grid_auto_flow": null,
            "grid_auto_rows": null,
            "grid_column": null,
            "grid_gap": null,
            "grid_row": null,
            "grid_template_areas": null,
            "grid_template_columns": null,
            "grid_template_rows": null,
            "height": null,
            "justify_content": null,
            "justify_items": null,
            "left": null,
            "margin": null,
            "max_height": null,
            "max_width": null,
            "min_height": null,
            "min_width": null,
            "object_fit": null,
            "object_position": null,
            "order": null,
            "overflow": null,
            "overflow_x": null,
            "overflow_y": null,
            "padding": null,
            "right": null,
            "top": null,
            "visibility": null,
            "width": null
          }
        },
        "60bbe9e70a144b84ac3cf0831a74400d": {
          "model_module": "@jupyter-widgets/controls",
          "model_name": "ProgressStyleModel",
          "model_module_version": "1.5.0",
          "state": {
            "_model_module": "@jupyter-widgets/controls",
            "_model_module_version": "1.5.0",
            "_model_name": "ProgressStyleModel",
            "_view_count": null,
            "_view_module": "@jupyter-widgets/base",
            "_view_module_version": "1.2.0",
            "_view_name": "StyleView",
            "bar_color": null,
            "description_width": ""
          }
        },
        "165d032b80384512afbce67a54c6cd5e": {
          "model_module": "@jupyter-widgets/base",
          "model_name": "LayoutModel",
          "model_module_version": "1.2.0",
          "state": {
            "_model_module": "@jupyter-widgets/base",
            "_model_module_version": "1.2.0",
            "_model_name": "LayoutModel",
            "_view_count": null,
            "_view_module": "@jupyter-widgets/base",
            "_view_module_version": "1.2.0",
            "_view_name": "LayoutView",
            "align_content": null,
            "align_items": null,
            "align_self": null,
            "border": null,
            "bottom": null,
            "display": null,
            "flex": null,
            "flex_flow": null,
            "grid_area": null,
            "grid_auto_columns": null,
            "grid_auto_flow": null,
            "grid_auto_rows": null,
            "grid_column": null,
            "grid_gap": null,
            "grid_row": null,
            "grid_template_areas": null,
            "grid_template_columns": null,
            "grid_template_rows": null,
            "height": null,
            "justify_content": null,
            "justify_items": null,
            "left": null,
            "margin": null,
            "max_height": null,
            "max_width": null,
            "min_height": null,
            "min_width": null,
            "object_fit": null,
            "object_position": null,
            "order": null,
            "overflow": null,
            "overflow_x": null,
            "overflow_y": null,
            "padding": null,
            "right": null,
            "top": null,
            "visibility": null,
            "width": null
          }
        },
        "4ac32d2d648f4d5cbcf3a8f9e59cb85a": {
          "model_module": "@jupyter-widgets/controls",
          "model_name": "DescriptionStyleModel",
          "model_module_version": "1.5.0",
          "state": {
            "_model_module": "@jupyter-widgets/controls",
            "_model_module_version": "1.5.0",
            "_model_name": "DescriptionStyleModel",
            "_view_count": null,
            "_view_module": "@jupyter-widgets/base",
            "_view_module_version": "1.2.0",
            "_view_name": "StyleView",
            "description_width": ""
          }
        }
      }
    }
  },
  "cells": [
    {
      "cell_type": "markdown",
      "metadata": {
        "id": "view-in-github",
        "colab_type": "text"
      },
      "source": [
        "<a href=\"https://colab.research.google.com/github/SushantSriv/Background-Generator/blob/master/CA4_Template.ipynb\" target=\"_parent\"><img src=\"https://colab.research.google.com/assets/colab-badge.svg\" alt=\"Open In Colab\"/></a>"
      ]
    },
    {
      "cell_type": "markdown",
      "source": [
        "# Compolsory Assignment 4: Variational Autoencoders\n",
        "Please fill out the the group name, number, members and optionally the name below.\n",
        "\n",
        "**Group number**: \\\n",
        "**Group member 1**: \\\n",
        "**Group member 2**: \\\n",
        "**Group name (optional)**:\n",
        "\n",
        "# Assignment Submission\n",
        "To complete this assignment answer the relevant questions in this notebook and write the code required to implement the relevant models. The assignemnt is submitted by handing in this notebook as an .ipynb file and as a .pdf file.\n",
        "\n",
        "We will explore how to use autoencoder netorks using the datsets **CelebA**. This dataset consist of over 200k selfies of famours people. They are also annotated with an list of binary attributes, such as hair, smilling, eye brows, big nose, attractive, etc.\n",
        "\n",
        "**Part one** is an introduction to encoder-decoder architecture. Here we will use an singel linear transformation to encode the data in an latent representation, and a singel linear transformation to project it back into the visual space.\n",
        "1. Build an autoencoder using a single dense layer for the encoder/decoder. Use an approperiate latent dimesion as bottelneck. Train it using only reconstruction loss. Save the reconstructed output-image during at least five epoch and visually show how it changes during traing.\n",
        "2. Build a deeper autoencoder structure with dense layers and none-linearity. The network should be at least three layer deep. Use only reconstructed loss. Train the network using three different dimension of the latent space and show the effect the latent dimension/bottelneck have on the reconstructed image.\n",
        "\n",
        "**Part two** is an advancement to variational autoencoders. Here we will introduce the regularisation term using KL-divergence and use the power of convelutional networks (CNN) to encode and decode the spatial information in the images.\n",
        "1. Build a deep encoder and decoder using CNN. You are free to choose the design.\n",
        "2. Add an sampeling layer at the end of the decoder, enforcing a normal, prior distribution on the latent space. This will be used to draw new samples from the latent space.\n",
        "3. Use the newtork to generate sample images. Compare them to the orignal.\n",
        "4. Use the attribute annotation included in the dataset to select one desired feature and generate novel samples with- and without the desired attribute.\n",
        "5. Interpolate the latent space.\n",
        "\n",
        "**Bonuse** for fun; upload your own selfi and try to manipulate the latent space to see how you would look with/without selected features!"
      ],
      "metadata": {
        "id": "RrAAuFmEbAkp"
      }
    },
    {
      "cell_type": "markdown",
      "source": [
        "# Introduction\n",
        "**Autoencoders** are neural network architectures used for unsupervised learning tasks. They are designed to learn efficient representations of input data by compressing it into a lower-dimensional latent space and then reconstructing it back to its original form. Autoencoders consist of two main components: an encoder and a decoder.\n",
        " - The encoder takes in the input data and maps it to a lower-dimensional latent representation. It typically consists of multiple layers that gradually reduce the dimensionality of the input data, capturing its essential features. The output of the encoder is a compressed representation of the input, often referred to as a code or latent vector.\n",
        " - The decoder, on the other hand, takes the code from the encoder and reconstructs the original data from it. It mirrors the architecture of the encoder by gradually expanding the code back to the original dimensionality. The output of the decoder is a reconstruction of the input data, which ideally should closely resemble the original input.\n",
        "\n",
        "**Variational Autoencoders** are a more powerful class of generative models. They combine elements from both autoencoders and probabilistic models to learn an efficient representation of high-dimensional data. VAEs are designed to capture the underlying latent variables that drive the generation of the observed data, enabling them to generate new samples from the learned distribution. Unlike traditional autoencoders, VAEs introduce a **probabilistic component** that allows them to model the data distribution more effectively.\n",
        "\n",
        "Autoencoders have various applications, including dimensionality reduction, data denoising, and anomaly detection. They can learn useful representations from unlabeled data, which can then be used for downstream tasks like classification or clustering. In this assignemnt we will be exploring the **generative capabilities** of autoencoders and VAE's. By exploring the latent space, we can generate novel samples, allowing for creative applications such as image synthesis or style transfer."
      ],
      "metadata": {
        "id": "-wReJfyXbGVZ"
      }
    },
    {
      "cell_type": "code",
      "execution_count": null,
      "metadata": {
        "id": "Irco6o2capMt"
      },
      "outputs": [],
      "source": [
        "# IMPORT LIBRARIES\n",
        "import tensorflow.keras as keras\n",
        "import pandas as pd\n",
        "import tensorflow as tf\n",
        "import numpy as np\n",
        "import PIL\n",
        "import PIL.Image\n",
        "import sklearn\n",
        "import scipy\n",
        "import pathlib\n",
        "import time\n",
        "import os\n",
        "import matplotlib.pyplot as plt"
      ]
    },
    {
      "cell_type": "code",
      "source": [
        "#Ensure that you have access to Colab's GPU\n",
        "print(\"Num GPUs Available: \", len(tf.config.experimental.list_physical_devices('GPU')))\n",
        "device_name = tf.test.gpu_device_name()"
      ],
      "metadata": {
        "colab": {
          "base_uri": "https://localhost:8080/"
        },
        "id": "wKmcogygBF8n",
        "outputId": "794ae687-4fce-496d-bf8d-a0d0f21442de"
      },
      "execution_count": null,
      "outputs": [
        {
          "output_type": "stream",
          "name": "stdout",
          "text": [
            "Num GPUs Available:  1\n"
          ]
        }
      ]
    },
    {
      "cell_type": "markdown",
      "source": [
        "# Part 0: Get the data\n",
        "\n",
        "The dataset is quite large (>200 k high res. images), however it can be accessed through TensorFlow Datasets. Please note that there is a limit on how many request you can ask within 24h. If you get HTTP error 429 it means you have exceeded that limit. Please concider this when working on the task - aka do as much as posible each session (also try to avoid restarting the kernel).\n",
        "\n",
        "(The data can also be downloaded directly from the authers [here](https://drive.google.com/drive/folders/1E34_MII_Gw4cAy0lS6BfN62a7ut9Af_2?usp=share_link) )"
      ],
      "metadata": {
        "id": "YDGyESi-616N"
      }
    },
    {
      "cell_type": "code",
      "source": [
        "import tensorflow_datasets as tfds\n",
        "celeba_bldr = tfds.builder('celeb_a')\n",
        "celeba_bldr.download_and_prepare()\n",
        "celeba = celeba_bldr.as_dataset(shuffle_files=False)"
      ],
      "metadata": {
        "id": "ggzYmBL0R2XF",
        "colab": {
          "base_uri": "https://localhost:8080/",
          "height": 116,
          "referenced_widgets": [
            "b61cc6581ebc43a088bc9a0250fb211d",
            "e983a0d029c149d796ea5670a23beeb3",
            "ac1cff2913ff4511a52486c073cb6eff",
            "0249360177f247ee83f51c92f92a6cd9",
            "7d44e71a3a664db3a38a9b06b2cd0ae1",
            "b56bfa30d14b43d8b0750b3ce768fc86",
            "cdf951ab9bae47b7bb0a025418bec8f0",
            "0688ad143e50455594062b756ea4e81d",
            "df8b70e0ff0240aa9b68d25a255dccd4",
            "0c37d04c6d9f4762a5004055b27e1dd5",
            "7fdede1523d4446696670c6af57121ca",
            "f6981007d9c545e09d9d542bbb1f7bdf",
            "40339e0d1d954c12ab4a31af8f132059",
            "25da899218c94f35ad00a60d4f38cc27",
            "419d6a237b4048d5a061aff7c7257c2c",
            "cd018ea4c52845ab8ab07c702e01d4b9",
            "e077c1efc57d42dfa358243f5fbeb9bd",
            "952521029b564a15bd579b57227459c7",
            "62de1b049214436ca2d891e4a00e17dd",
            "6773d711716f42f882838db4fc4e7e92",
            "74d0a59ac824462ab2685d119d21b135",
            "2b0a6d932572460cb7eb6988c90af968",
            "d1bfddaf703a4753a4f774c1c429a0ee",
            "06e71d8ddc1d4fc6b5275b551b1f48b8",
            "27f5032c281c4920bb447475fbb83dc5",
            "663905b0347a4c8982960e101ee7e7a8",
            "ee5271e549e24b2d9342b908bfbb6c36",
            "ea9b6ec53b954b228952079dd0d2ac14",
            "cadd35494cdf412498fbab0e20be1759",
            "da5936a463c44fb49eb87d1785c6dbc5",
            "0cf4e59cbf29440cb3598b87c01ca8c1",
            "22eb87fcb8cd4a6787e06b3f9947e5bd",
            "6cd4adcdfa8b473facb11e52fac7fd72",
            "ab1517481c344bc6bb1b81c5639fa35c",
            "12b56f3fa94b490c909508b7b395722d",
            "1662c5cc8d6b4a4d9431727b8657b760",
            "308d5843a6f447bc960952928dc9d597",
            "fc59f4591b8344289c363ae39bddf717",
            "fdc7cf3c0c8140998357352d50346ccd",
            "7fd0ea3364cf4ba9a80d8c61da78f80e",
            "f2600d615d464e4393b4365a84b7365a",
            "60db1d0cf6d74345aa09f0fa16095a1b",
            "8a7526fe657b4353b65caeb1b651b133",
            "4dec7a68e04b41028df955c5e77df0c2",
            "224ca149d5b043d5a0455604bf29c461",
            "da34e24f46b64124bd3a7f9d4cf0bdad",
            "9c90658c0fdd4129802b5c12b1b92277",
            "621cf9d4f2a449ec85bdb88df4bb1fc2",
            "74dd9d76802f494fab469757df24e938",
            "140f82aafaba49bfbaa0a10a6209b140",
            "9eaedc72c4a349f0b4c0f2626910a511",
            "31040866e94e4c8bacdf71d70550cba9",
            "51335ede74074dea838d3684f0be4202",
            "89604f92d16e4eec9c40ec7be036097d",
            "4952723f4bf24202b1c2ea1b41299f2e",
            "5de8cad14ff445e4b0a27e7666d6477f",
            "521bd8b21d404394a2d5b443478494c1",
            "158b7af226f54c90bc734e5270c4e27a",
            "47cbaa33e2fd4e27b5e2f49b90d9108d",
            "927068bf0abb4e87a59f6af31afe2a8b",
            "2e3fd134697c4b15b04ef4ec6b11a2e2",
            "8f3b23c4ef4a45ab8d8b41000c45bc2d",
            "e2aef49a46f945e2abdf5241289ce5ec",
            "207a7eb3f72a4504b06832bdc7942464",
            "07a498a822a94b8b8b34797f420f6383",
            "d22bbe7ff94d4ad6828b42e8876d63f3",
            "ae04ead4f2234bf2a6bbe149cf9104bf",
            "c46295c7c50749f195507f26fd372296",
            "1a8ef2ab98344c4eb383d1dd2c72e684",
            "45cb8b09bf4642699abcb2cd3a1edf35",
            "d365c22ccb5e451f82ccc386fccf65fc",
            "279a4e023b5f49cea6b6ce056d5316c1",
            "06f0a02edfdb424ea4cfdce8b28b009d",
            "97d5fd18a1994ba2b0ce8f93702b0f7b",
            "9f94eb3d20024ab49a84f387ab609598",
            "4567228941484b2681bafcff6d1d7b7e",
            "e914744c5a4a4d7e9890ce9c9b3c1de0",
            "8913f1f0c4d243409fa18fb3d515dba1",
            "de4e76110da2433988082fc7cc3b3204",
            "667a11232e474f30af68f010e9f5fc33",
            "7abc72462e234e43b68120bf5caef56f",
            "c7a16ef79f5d4a5b86ab3e38022d2432",
            "148570c268ad44d5868c255fa7ca5b30",
            "3e1bf03195ea4ea58bd1818000719eb5",
            "b385874af6a74a40aa9cb03b3c3244fe",
            "1a603ca37f84409bb1337e6c460e613b",
            "92dc2b384cf74fafbc677843e52b2299",
            "83c457786b2848ae889d62d8d922d5ad",
            "deb3f29bf573419895260b179c45286c",
            "ab18dcac21d44af6b94ed827109248f6",
            "61f04ad237244aab93e84965f4c18f7e",
            "c413e97cedd64fb89d2c07fc6d5aa581",
            "25faf60027f6442c885846625fa5be7f",
            "820ec25212ad49c38fcd51cba30f0a6f",
            "956180e4a9d64cefbe25bfb0c1968b9f",
            "bf18f6456660464b8969dd94933623fb",
            "60bbe9e70a144b84ac3cf0831a74400d",
            "165d032b80384512afbce67a54c6cd5e",
            "4ac32d2d648f4d5cbcf3a8f9e59cb85a"
          ]
        },
        "outputId": "ffbdace6-3338-4adf-bc49-aae3d01188b8"
      },
      "execution_count": null,
      "outputs": [
        {
          "output_type": "stream",
          "name": "stdout",
          "text": [
            "Downloading and preparing dataset 1.39 GiB (download: 1.39 GiB, generated: 1.63 GiB, total: 3.01 GiB) to /root/tensorflow_datasets/celeb_a/2.1.0...\n"
          ]
        },
        {
          "output_type": "display_data",
          "data": {
            "text/plain": [
              "Dl Completed...: 0 url [00:00, ? url/s]"
            ],
            "application/vnd.jupyter.widget-view+json": {
              "version_major": 2,
              "version_minor": 0,
              "model_id": "b61cc6581ebc43a088bc9a0250fb211d"
            }
          },
          "metadata": {}
        },
        {
          "output_type": "display_data",
          "data": {
            "text/plain": [
              "Dl Size...: 0 MiB [00:00, ? MiB/s]"
            ],
            "application/vnd.jupyter.widget-view+json": {
              "version_major": 2,
              "version_minor": 0,
              "model_id": "f6981007d9c545e09d9d542bbb1f7bdf"
            }
          },
          "metadata": {}
        },
        {
          "output_type": "display_data",
          "data": {
            "text/plain": [
              "Generating splits...:   0%|          | 0/3 [00:00<?, ? splits/s]"
            ],
            "application/vnd.jupyter.widget-view+json": {
              "version_major": 2,
              "version_minor": 0,
              "model_id": "d1bfddaf703a4753a4f774c1c429a0ee"
            }
          },
          "metadata": {}
        },
        {
          "output_type": "display_data",
          "data": {
            "text/plain": [
              "Generating train examples...:   0%|          | 0/162770 [00:00<?, ? examples/s]"
            ],
            "application/vnd.jupyter.widget-view+json": {
              "version_major": 2,
              "version_minor": 0,
              "model_id": "ab1517481c344bc6bb1b81c5639fa35c"
            }
          },
          "metadata": {}
        },
        {
          "output_type": "display_data",
          "data": {
            "text/plain": [
              "Shuffling /root/tensorflow_datasets/celeb_a/2.1.0.incomplete8BGNL2/celeb_a-train.tfrecord*...:   0%|          …"
            ],
            "application/vnd.jupyter.widget-view+json": {
              "version_major": 2,
              "version_minor": 0,
              "model_id": "224ca149d5b043d5a0455604bf29c461"
            }
          },
          "metadata": {}
        },
        {
          "output_type": "display_data",
          "data": {
            "text/plain": [
              "Generating validation examples...:   0%|          | 0/19867 [00:00<?, ? examples/s]"
            ],
            "application/vnd.jupyter.widget-view+json": {
              "version_major": 2,
              "version_minor": 0,
              "model_id": "5de8cad14ff445e4b0a27e7666d6477f"
            }
          },
          "metadata": {}
        },
        {
          "output_type": "display_data",
          "data": {
            "text/plain": [
              "Shuffling /root/tensorflow_datasets/celeb_a/2.1.0.incomplete8BGNL2/celeb_a-validation.tfrecord*...:   0%|     …"
            ],
            "application/vnd.jupyter.widget-view+json": {
              "version_major": 2,
              "version_minor": 0,
              "model_id": "ae04ead4f2234bf2a6bbe149cf9104bf"
            }
          },
          "metadata": {}
        },
        {
          "output_type": "display_data",
          "data": {
            "text/plain": [
              "Generating test examples...:   0%|          | 0/19962 [00:00<?, ? examples/s]"
            ],
            "application/vnd.jupyter.widget-view+json": {
              "version_major": 2,
              "version_minor": 0,
              "model_id": "8913f1f0c4d243409fa18fb3d515dba1"
            }
          },
          "metadata": {}
        },
        {
          "output_type": "display_data",
          "data": {
            "text/plain": [
              "Shuffling /root/tensorflow_datasets/celeb_a/2.1.0.incomplete8BGNL2/celeb_a-test.tfrecord*...:   0%|          |…"
            ],
            "application/vnd.jupyter.widget-view+json": {
              "version_major": 2,
              "version_minor": 0,
              "model_id": "deb3f29bf573419895260b179c45286c"
            }
          },
          "metadata": {}
        },
        {
          "output_type": "stream",
          "name": "stdout",
          "text": [
            "Dataset celeb_a downloaded and prepared to /root/tensorflow_datasets/celeb_a/2.1.0. Subsequent calls will reuse this data.\n"
          ]
        }
      ]
    },
    {
      "cell_type": "markdown",
      "source": [
        "*If you havig trouble downloading the data (ERROR 429) you can extract the .zip file from the link above*\n",
        "1. *Copy the -zip folders to your drive (see link above)*\n",
        "2. *Unzip folder (You can chose between unzipping in the noteboke, or your drive)*\n",
        "\n",
        "```\n",
        "!unzip -u \"/YOUR_DRIVE_PATH/celeba_train.zip\" -d \"/YOUR_DESTINATION_PATH/train\"\n",
        "```\n",
        "3. *Extract the dataset (ps. train heter test i undermappene)*\n",
        "\n",
        "\n",
        "```\n",
        "celeba_train = tf.dataDataset.load('/YOUR_DESTINATION_PATH/train/content/CelebA_test'\n",
        "```\n",
        "4. *Repeat for test*\n"
      ],
      "metadata": {
        "id": "PeLEaSNM6_lJ"
      }
    },
    {
      "cell_type": "code",
      "source": [
        "celeba_train = celeba['train']\n",
        "celeba_valid = celeba['validation']\n",
        "celeba_test = celeba['test']\n",
        "#The data has the following keys: ['attributes']['image']['landmarks']"
      ],
      "metadata": {
        "id": "SVe1vIH5TljV"
      },
      "execution_count": null,
      "outputs": []
    },
    {
      "cell_type": "markdown",
      "source": [
        "\n",
        "\n",
        "---\n",
        "\n"
      ],
      "metadata": {
        "id": "gcmN_mnInsDP"
      }
    },
    {
      "cell_type": "markdown",
      "source": [
        "# Part 1: Build an Autoencoder network"
      ],
      "metadata": {
        "id": "B1KZtAiHbPDM"
      }
    },
    {
      "cell_type": "markdown",
      "source": [
        "<div>\n",
        "<img src=\"https://tikz.net/janosh/autoencoder.png\" width=\"400\"/>\n",
        "<div>"
      ],
      "metadata": {
        "id": "rxgocIWd_Hha"
      }
    },
    {
      "cell_type": "markdown",
      "source": [
        "## Task 1.1 Define a prerocessing function\n",
        "\n",
        "- The images are orignial 218x178, however it could be usefull to reduce the size for efficency purposes.\n",
        "- As always: preprocessing the image increase performance\n",
        "- As we are only concerd with reconstruction loss (e.g. try to reconstruct the same image) **we do not care about labels**\n",
        "- For this reason, a test set is not always needed, altough it will be usefull to have a small \"test set\" available for emperical experiments.\n",
        "\n",
        "\n",
        "Following is an example on how to design a keras preprocessing function.\n",
        "```\n",
        "def preprocess(example, size=(img_h, img_w), mode='train'):\n",
        "    image = example['image']\n",
        "    if mode == 'train':\n",
        "        image_resized = tf.image.resize(image, size=size)\n",
        "        return image_resized/255.0, image_resized/255.0\n",
        "```\n",
        "\n"
      ],
      "metadata": {
        "id": "kG4SQlXJbZiA"
      }
    },
    {
      "cell_type": "code",
      "source": [
        "BATCH_SIZE = 32\n",
        "img_w, img_h = 64,64"
      ],
      "metadata": {
        "id": "t_cwhoS2PqAB"
      },
      "execution_count": null,
      "outputs": []
    },
    {
      "cell_type": "code",
      "source": [
        "# Define your preprocessing function"
      ],
      "metadata": {
        "id": "14nPF1IE0MEN"
      },
      "execution_count": null,
      "outputs": []
    },
    {
      "cell_type": "code",
      "source": [
        "# Implement your preprocessing function on the training- and test-set\n",
        "# i.e. -> map(lambda x: preprocess(**args))\n",
        "train_ds = celeba_train.map(lambda x: **args)\n",
        "train_ds = train_ds.batch(BATCH_SIZE)\n",
        "\n",
        "test_ds = celeba_test.map(lambda x: **args)\n",
        "test_ds = test_ds.batch(BATCH_SIZE)"
      ],
      "metadata": {
        "id": "-tksAzgfPGMm"
      },
      "execution_count": null,
      "outputs": []
    },
    {
      "cell_type": "markdown",
      "source": [
        "## Task 1.2 Visualize the dataset"
      ],
      "metadata": {
        "id": "p0IahrexgBOx"
      }
    },
    {
      "cell_type": "code",
      "source": [
        "# Display a few random images from the Celeba data generator created above."
      ],
      "metadata": {
        "id": "Rz0I1FW8gEIJ"
      },
      "execution_count": null,
      "outputs": []
    },
    {
      "cell_type": "markdown",
      "source": [
        "## Task 1.3 Build a linear encoder and decoder\n",
        "\n",
        "- The images needs to be flattent before feed into the input layer.\n",
        "- The output from the decoder needs to be reshaped back into an three-channel image.\n",
        "- Ensure the output from the decoder are in the valid pixel range (0-1).\n",
        "- Train the network in at least five epochs"
      ],
      "metadata": {
        "id": "aBkwcZlfbLwA"
      }
    },
    {
      "cell_type": "markdown",
      "source": [
        "`laten_dim = 64`\n",
        "\n",
        "1. **Input Layer:**\n",
        "   - The input layer of the autoencoder takes the raw input data. The size of this layer depends on the dimensionality of the input data. Since we are working with images and dense layers we need to flatten the input space before we can encode it.\n",
        "   \n",
        "```\n",
        "tf.keras.Input(shape=(H,W,C), name='Image input')\n",
        "tf.keras.layers.Flatten(name='Image_as_vector')\n",
        "```\n",
        "2. **Encoder:**\n",
        "   - The encoder part of the network is responsible for reducing the dimensionality of the input data. It is usually achived by decreasing neuron count.\n",
        "\n",
        "```\n",
        "tf.keras.layers.Dense(*args, name='Encode')\n",
        "```\n",
        "\n",
        "3. **Latent Space:**\n",
        "   - The output layer of the encoder is called the latent space. This layer contains the compressed representation of the input\n",
        "4. **Decoder:**\n",
        "   - The decoder part of the network aims to reconstruct the original data from the compressed representation in the latent space. It consists layer(s) with an increasing number of neurons\n",
        "\n",
        "```\n",
        "tf.keras.layers.Dense(*args, name='Decoder')\n",
        "#output pixel between 0,1\n",
        "```\n",
        "5. **Output Layer:**\n",
        "   - The output layer of the autoencoder reconstructs the data in a format that matches the input data's dimensionality.\n",
        "\n",
        "```\n",
        "tf.keras.layers.Reshape(*args, name='Output')\n",
        "```\n",
        "\n",
        "\n",
        "The training process involves minimizing a loss function, typically an **reconstruction loss** which measures the difference between the original input and the reconstructed output. Use Binary cross-entropy loss which emphasizes correct representation of the data. It penalizes the model more when it produces a significantly different value from the ground truth, effectively encouraging the model to capture and reconstruct the important binary features (pixel) accurately."
      ],
      "metadata": {
        "id": "KR42uYgiE-c5"
      }
    },
    {
      "cell_type": "code",
      "source": [
        "# Design your model"
      ],
      "metadata": {
        "id": "E3z8Ys1aAMH3"
      },
      "execution_count": null,
      "outputs": []
    },
    {
      "cell_type": "markdown",
      "source": [
        "### Task 1.3.1 Train the network and save a reconstructed image at the end of each epoch\n",
        "- Save chekpoints at end of each training epoch (>5) to visualise the evolution of the reconstructed images during training\n",
        "- Use ```callbacks=[model_checkpoint_callback]```\n",
        " to save weigths at end of each epoche.\n",
        "- ```optimizer='adam'```\n",
        "- ```loss='binary_crossentropy'```\n",
        "\n",
        "```\n",
        "# Example on how to implement callbacks during training\n",
        "with tf.device(device_name):\n",
        "    model.fit(**args, callbacks=[model_checkpoint_callback])\n",
        "```\n",
        "\n"
      ],
      "metadata": {
        "id": "S0wqETGcAekB"
      }
    },
    {
      "cell_type": "code",
      "source": [
        "# Use this definition of checkpoints\n",
        "model_checkpoint_callback = tf.keras.callbacks.ModelCheckpoint(\n",
        "    filepath='./tmp/weights_{epoch:02d}.hdf5',\n",
        "    save_weights_only=True,\n",
        "    monitor='loss',\n",
        "    mode='auto',\n",
        "    save_freq = 'epoch',\n",
        "    save_best_only=False)"
      ],
      "metadata": {
        "id": "iYX6_P3JAfXn"
      },
      "execution_count": null,
      "outputs": []
    },
    {
      "cell_type": "code",
      "source": [
        "# Compile and train your model"
      ],
      "metadata": {
        "id": "lK7u-W8dAmMk"
      },
      "execution_count": null,
      "outputs": []
    },
    {
      "cell_type": "markdown",
      "source": [
        "### Task 1.3.2 Visualise the reconstruted images during training"
      ],
      "metadata": {
        "id": "dAoja0EHPSIC"
      }
    },
    {
      "cell_type": "markdown",
      "source": [
        "Keras ModelCheckpoint is used to save the models (weights) at some frequency. By loading the weights at the end of each epoch we can visualise the output. See example below for how to implement the saved weights from 'filepath'.\n",
        "\n",
        "```\n",
        "random_img = np.random.randint(0, len(test_np))\n",
        "len_check = len(os.listdir('./tmp/'))\n",
        "fig, ax = plt.subplots(1, len_check+1, figsize=(15,15))\n",
        "for i, weights in enumerate(os.listdir('./tmp/')[::-1],1):\n",
        "    epoch_model = tf.keras.models.clone_model()         # Clone the orignal model structure\n",
        "    epoch_model.load_weights('./tmp/' + weights)\n",
        "    epoch_pred = epoch_model.predict(test_np, verbose=0)\n",
        "    ax[0].imshow(test_np[random_img])\n",
        "    ax[i].imshow(epoch_pred[random_img])\n",
        "    ax[i].axis('off')\n",
        "    ax[0].axis('off')\n",
        "    if i!=len_check:\n",
        "        ax[i].set_title('Epoch: {}'.format(i))\n",
        "    else:\n",
        "        ax[i].set_title('Output')\n",
        "    ax[0].set_title('Original')```\n",
        "\n"
      ],
      "metadata": {
        "id": "Noy8OmLMK16w"
      }
    },
    {
      "cell_type": "code",
      "source": [
        "# Visualise the output at end of each training epochs."
      ],
      "metadata": {
        "id": "dsWwqTTRCMV2"
      },
      "execution_count": null,
      "outputs": []
    },
    {
      "cell_type": "markdown",
      "source": [
        "### Task 1.3.3. Discuss:\n",
        "**The image's resemblance to the origninal is quite good after the first epoch, what might be some reasons for this?**\n"
      ],
      "metadata": {
        "id": "KpMJFYaHSLxV"
      }
    },
    {
      "cell_type": "markdown",
      "source": [
        "## Task 1.4: Train the network using different latent dimensions.\n",
        "The purpose of latent dimensions in autoencoders is to represent a compressed and continuous encoding space that might;\n",
        " 1. captures meaningful features and variations within the data\n",
        " 2. enabling generation of new, similar samples\n",
        " 3. aiding in tasks like denoising and anomaly detection.\n",
        "\n",
        "\n",
        "To visually understand the effect of the lantet space, train your network with three differnet dimensions of the latent space (small < 16, medium < 128, and large > 256) and visualise the reconstructed images.\n"
      ],
      "metadata": {
        "id": "dBW_FDwHDHQL"
      }
    },
    {
      "cell_type": "markdown",
      "source": [
        "\n",
        "\n",
        "```\n",
        "latent_dimensions = []         # Example [8,64,128]\n",
        "model_list        = []         # Empty list to store weights of each latent- dim model\n",
        "train_history     = []         # Useful for next task\n",
        "train_time        = []         # Useful for next task\n",
        "\n",
        "for i in latent_dimensions:\n",
        "    # Initiate and compile the model\n",
        "    print('Training model with latent dimension: %d'%(i))\n",
        "    \n",
        "    temp_model = model_def(i)\n",
        "    temp_mode.compile(**args)\n",
        "    \n",
        "    start = time.time()\n",
        "    with tf.device(device_name):\n",
        "        history = temp_model.fit(*args)\n",
        "    end = time.time()\n",
        "\n",
        "    # Store output    \n",
        "    model_list.append(temp_model.get_weights())\n",
        "    train_history.append(history)\n",
        "    train_time.append(end-start)\n",
        "```\n",
        "\n"
      ],
      "metadata": {
        "id": "0Nm4PQsSLvf-"
      }
    },
    {
      "cell_type": "code",
      "source": [
        "# TRAIN INDIVIDUAL NETWORKS WITH DIFFERENT LATENT DIMENSIONS"
      ],
      "metadata": {
        "id": "S-nRFqCiDHCd"
      },
      "execution_count": null,
      "outputs": []
    },
    {
      "cell_type": "markdown",
      "source": [
        "\n",
        "\n",
        "```\n",
        "random_image = np.random.randint(0,len(test_np))\n",
        "PSNR_list = []                      # Useful for next task\n",
        "\n",
        "fig, axs = plt.subplots(1, len(latent_dimensions)+1)\n",
        "axs[0].imshow(test_np[random_image])\n",
        "axs[0].set_title('Original')\n",
        "\n",
        "for i in range(len(latent_dimensions)):\n",
        "    model =                         # Set the orignal model\n",
        "    model.set_weights(model_list[i])\n",
        "    reconstructed_image = model.predict(test_np)\n",
        "\n",
        "    axs[i+1].imshow(reconstructed_image[random_image])\n",
        "    axs[i+1].set_title('Latent dim: %d'%(latent_dimensions[i]))\n",
        "    axs[i].axis('off')\n",
        "    axs[i+1].axis('off')\n",
        "\n",
        "    PSNR_list.append(np.mean(tf.image.psnr(x_pred, test_np, max_val=1)))\n",
        "```\n",
        "\n"
      ],
      "metadata": {
        "id": "34EfAXyFMjsX"
      }
    },
    {
      "cell_type": "code",
      "source": [
        "# VISUALISE THE IMAGES GENERATED FROM DIFFERNET LATENT SIZES"
      ],
      "metadata": {
        "id": "Qj8iVs83EUcT"
      },
      "execution_count": null,
      "outputs": []
    },
    {
      "cell_type": "markdown",
      "source": [
        "## Task 1.3.3: What effect does the latent space have on the reconstructed image?\n",
        "\n",
        "- Here we will compare loss, PSNR value, and training time\n",
        "\n",
        "PSNR stands for Peak Signal-to-Noise Ratio, and it is a metric commonly used to evaluate the quality of image compression. It measures the ratio between the maximum possible power of a signal (in this case, an image) and the power of the noise introduced by the compression process. Higher values are better."
      ],
      "metadata": {
        "id": "Xm2Ltk4yEhcn"
      }
    },
    {
      "cell_type": "markdown",
      "source": [
        "\n",
        "\n",
        "```\n",
        "X_axis = np.arange(len(latent_dimensions))\n",
        "psnr = PSNR_list\n",
        "train_loss = [train_history[i].history['loss'][0] for i in range(len(train_history))]\n",
        "```\n",
        "\n"
      ],
      "metadata": {
        "id": "Jkpt29PJOIoW"
      }
    },
    {
      "cell_type": "code",
      "source": [
        "# Plot"
      ],
      "metadata": {
        "id": "wOh2cltQIr4J"
      },
      "execution_count": null,
      "outputs": []
    },
    {
      "cell_type": "markdown",
      "source": [
        "## Task 1.3.4: Discuss:\n",
        "1. **What is a latent representation in the context of machine learning, and how does it differ from the original data representation?**\n",
        "2. **In unsupervised learning, why do researchers and practitioners often prefer to work with latent representations instead of raw data?**\n",
        "3. **What challenges and potential drawbacks are associated with using latent representations in machine learning?**\n",
        "4. **Discuss the trade-offs between using a higher-dimensional latent space and a lower-dimensional one in various applications?**"
      ],
      "metadata": {
        "id": "pLkYXn_VtLLf"
      }
    },
    {
      "cell_type": "code",
      "source": [
        "# Discuss"
      ],
      "metadata": {
        "id": "RuQskfwoL28_"
      },
      "execution_count": null,
      "outputs": []
    },
    {
      "cell_type": "markdown",
      "source": [
        "\n",
        "\n",
        "---\n",
        "\n"
      ],
      "metadata": {
        "id": "AU9NaifqvUeh"
      }
    },
    {
      "cell_type": "markdown",
      "source": [
        "# Task 2: Building a Variational Autoencoder (VAE) network\n",
        "\n",
        "- Variational Autoencoders, in contrast to the deterministic Autoencoders, learn a probabilistic distribution over the latent space. VAEs use regularization techniques, such as the Kullback-Leibler (KL) divergence, to encourage the learned latent space to be continuous and well-structured. The KL divergence term in the VAE loss function penalizes the model if the learned latent space deviates significantly from a prior distribution, usually a simple Gaussian distribution."
      ],
      "metadata": {
        "id": "PRv-NRHFuQ98"
      }
    },
    {
      "cell_type": "markdown",
      "source": [
        "<div>\n",
        "<img src=\"https://tikz.net/janosh/vae.png\" width=\"400\"/>\n",
        "<div>"
      ],
      "metadata": {
        "id": "NhPCo-TNNCvS"
      }
    },
    {
      "cell_type": "markdown",
      "source": [
        "## Task 2.1 Create a deep convelutional encoder and deocoder\n",
        "- Build a deep CNN encoder and an symmetric decoder. Keep track of your dimension. A tip is to make the network dynamical w.r.t. the input dimensions of the image.\n",
        "- Feel free to alter the architecture of the network as you see fit (belowe is an exampel on how to design your encoder and decoder.)"
      ],
      "metadata": {
        "id": "gMsi5Hjfv4q_"
      }
    },
    {
      "cell_type": "markdown",
      "source": [
        "\n",
        "```\n",
        "def encoder(input_shape, hidden_dim, laten_dim, model_name):\n",
        "    \"\"\"\n",
        "        Builds the encoder architecture.\n",
        "        Input_shape: dimension of image [BxHxWxC] - i.e. [256,28,28,3]\n",
        "        hidden_layers: number and dimension of layers [l1, l2, l3], where layer (i) > layer (i+1) - i.e. [512, 256, 128]\n",
        "        latnet_dim: dimension of latent space int - i.e. 64\n",
        "    \"\"\"\n",
        "    # INITIATE INPUT STRUCTURE\n",
        "    input = keras.Input(shape=(input_shape[0],input_shape[0], input_shape[2]), name='Image dimension')\n",
        "    x = input\n",
        "\n",
        "    # CONVOLUTIONAL LAYERS\n",
        "    for l in hidden_dim:\n",
        "        x = tf.keras.layers.Conv2D(l, 3, activation=\"relu\", strides=2, padding=\"same\", name='Conv_dim%i'%(l))(x)\n",
        "        x = tf.keras.layers.BatchNormalization()(x)\n",
        "        x = tf.keras.layers.LeakyReLU()(x)\n",
        "\n",
        "    # FLATTEN\n",
        "    x = tf.keras.layers.Flatten(name='Flatten_1d_vector')(x)\n",
        "\n",
        "    # LATENT SPACE\n",
        "    x = keras.layers.Dense(laten_dim, name='Latent_space')(x)\n",
        "    \n",
        "    # VARIATIONAL LAYER\n",
        "    z_mu = keras.layers.Dense(laten_dim, name='Z_mean')(x)\n",
        "    z_var = keras.layers.Dense(laten_dim, name='Z_variation')(x)\n",
        "\n",
        "    return tf.keras.Model(input,[z_mu, z_var], name=model_name)\n",
        "```\n",
        "\n"
      ],
      "metadata": {
        "id": "_wBBAzLgtT4k"
      }
    },
    {
      "cell_type": "markdown",
      "source": [
        "\n",
        "\n",
        "```\n",
        "def decoder(output_channel, hidden_dim, laten_dim, model_name):\n",
        "    \"\"\"\n",
        "        Builds the decoder architecture.\n",
        "        Output_channel: channels of image [C] (int) - i.e. 3\n",
        "        hidden_layers: number and dimension of layers [l1, l2, l3], where layer (i) > layer (i+1) (should be same\n",
        "            as encoder for a symmetric network) - i.e. [512, 256, 128]\n",
        "        latnet_dim: dimension of latent space int - i.e. 64 (must be same as from encoding)\n",
        "    \"\"\"\n",
        "    # INPUT FROM LATENT SAMPLE SPACE\n",
        "    laten_input = keras.Input(shape=(laten_dim), name='Latent input')\n",
        "\n",
        "    x = keras.layers.Dense(img_h*img_w*2, activation='relu', name='Latent_dense')(laten_input)\n",
        "    x = keras.layers.Reshape((int(img_h/8), int(img_w/8), hidden_dim[-1]), name='Convolution_dimension')(x)\n",
        "\n",
        "    # DE-CONVELUTIONAL LAYERS\n",
        "    for l in hidden_dim[::-1]:\n",
        "        x = tf.keras.layers.Conv2DTranspose(l, 3, activation=\"relu\", strides=2, padding=\"same\", name='ConvTransose_dim%i'%(l))(x)\n",
        "        x = tf.keras.layers.BatchNormalization()(x)\n",
        "        x = tf.keras.layers.LeakyReLU()(x)\n",
        "\n",
        "    # OUTPUT: SAME AS ORIGNIAL INPUT DIMENSIONS. Sigmoid for pixel values 0-1\n",
        "    output = tf.keras.layers.Conv2DTranspose(output_channel, 3, activation=\"sigmoid\", padding=\"same\", name='Conv_Output')(x)\n",
        "\n",
        "    return tf.keras.Model(laten_input, output, name=model_name)\n",
        "```\n",
        "\n"
      ],
      "metadata": {
        "id": "p59n5fh3ucpF"
      }
    },
    {
      "cell_type": "code",
      "source": [
        "# Define you encoder and decoder architecture here. (No need to compile or train them yet!)"
      ],
      "metadata": {
        "id": "ohc180lHAqhI"
      },
      "execution_count": null,
      "outputs": []
    },
    {
      "cell_type": "markdown",
      "source": [
        "## Task 2.2 Create a sampling layer using the reparameterization trick*\n",
        "- To be able to update the parameters of VAE using backpropagation, we need to consider that the sampling node inside is stochastic in nature. We can compute the gradients of the sampling node with respect to the learned mean and log-variance vector. This is achived by reparameterize our sampling layer."
      ],
      "metadata": {
        "id": "XcTbsODsubCb"
      }
    },
    {
      "cell_type": "markdown",
      "source": [
        "<div>\n",
        "<img src=\"https://i.stack.imgur.com/Djjr1.png\" width=\"400\"/>\n",
        "<div>\n"
      ],
      "metadata": {
        "id": "H1C2C8itvgly"
      }
    },
    {
      "cell_type": "code",
      "source": [
        "# Definitation of a reprarametrization layer\n",
        "class reparameterization_layer(tf.keras.layers.Layer):\n",
        "    \"\"\"\n",
        "    Input: Mean Vector, Variance Vector (from the variational layers of the Encoder - see illustration above)\n",
        "    Output: Z = μ + σ⊙ε     where ε ~ 𝒩(0,1) and σ = exp(z_var/2)\n",
        "    \"\"\"\n",
        "    def call(self,z_inputs):\n",
        "        z_mean, z_std = z_inputs\n",
        "        batch = tf.shape(z_mean)[0]\n",
        "        dim = tf.shape(z_mean)[1]\n",
        "        epsilon = tf.random.normal(shape=(batch, dim))\n",
        "        return z_mean + tf.exp(0.5 * z_std) * epsilon, z_mean, z_std"
      ],
      "metadata": {
        "id": "QSAF87qRNlEa"
      },
      "execution_count": null,
      "outputs": []
    },
    {
      "cell_type": "code",
      "source": [
        "# Add the sampling layer to the end of your encoder (with the output from the orignal encoder as input) HINT: Use Keras Sequentual model API!\n",
        "# Define the new model"
      ],
      "metadata": {
        "id": "p90CBL52Nown"
      },
      "execution_count": null,
      "outputs": []
    },
    {
      "cell_type": "markdown",
      "source": [
        "## Task 2.3 Build a custom model including reconstruction loss and KL divergence\n",
        "- Below we have defined a keras Model that takes **the previously defined encoder and decoder** as input and designe the training process.\n",
        "- The training process tracks two losses:\n",
        "\n",
        "\n",
        "> **Reconstruction Loss** = $||x - \\bar x ||_2 = ||x - decoder(z) ||_2 = ||x - d(\\mu_x + \\sigma_x \\epsilon)||_2$ where $\\mu_x,\\sigma_x = encoder(x), \\epsilon \\sim \\mathcal{N}(0,I)$\n",
        "\n",
        "\n",
        "> **Similarity Loss/KL Divergence** = $D_{KL}(\\mathcal{N}(\\mu_x, \\sigma_x) || \\mathcal{N}(0,I))$\n",
        "\n"
      ],
      "metadata": {
        "id": "env6kUzqxxxN"
      }
    },
    {
      "cell_type": "code",
      "source": [
        "class VAE(tf.keras.Model):\n",
        "    \"\"\"\n",
        "    Input: encoder, decoder\n",
        "    1. Track reconstruction loss, kl divergence, and total loss\n",
        "    2. Update gradients\n",
        "    Output: loss\n",
        "    \"\"\"\n",
        "    def __init__(self, encoder: tf.keras.Model, decoder: tf.keras.Model):\n",
        "        super().__init__()\n",
        "        self.encoder = encoder\n",
        "        self.decoder = decoder\n",
        "\n",
        "        self.rec_loss_tracker = keras.metrics.Mean(name=\"rec_loss\")\n",
        "        self.kl_loss_tracker = keras.metrics.Mean(name=\"kl_loss\")\n",
        "        self.tot_loss_tracker = keras.metrics.Mean(name=\"total_loss\")\n",
        "\n",
        "\n",
        "    def train_step(self, data):\n",
        "        x,y = data\n",
        "        with tf.GradientTape() as grad:\n",
        "            z_m, z_s, z = self.encoder(x)\n",
        "            reconstruction = self.decoder(z)\n",
        "            reconstruction_loss = tf.reduce_mean(\n",
        "                tf.reduce_sum(\n",
        "                    keras.losses.binary_crossentropy(y, reconstruction), axis=(1, 2)\n",
        "                )\n",
        "            )\n",
        "            kl_loss = -0.5 * (1 + z_s - tf.square(z_m) - tf.exp(z_s))\n",
        "            kl_loss = tf.reduce_mean(tf.reduce_sum(kl_loss, axis=1))\n",
        "            total_loss = reconstruction_loss + kl_loss\n",
        "\n",
        "        grads = grad.gradient(total_loss, self.trainable_weights)\n",
        "        self.optimizer.apply_gradients(zip(grads, self.trainable_weights))\n",
        "\n",
        "        self.tot_loss_tracker.update_state(total_loss)\n",
        "        self.rec_loss_tracker.update_state(reconstruction_loss)\n",
        "        self.kl_loss_tracker.update_state(kl_loss)\n",
        "        return {\n",
        "            \"loss\": self.tot_loss_tracker.result(),\n",
        "            \"reconstruction_loss\": self.rec_loss_tracker.result(),\n",
        "            \"kl_loss\": self.kl_loss_tracker.result(),\n",
        "        }"
      ],
      "metadata": {
        "id": "Fje1Kg4BN8Mn"
      },
      "execution_count": null,
      "outputs": []
    },
    {
      "cell_type": "code",
      "source": [
        "# Build, compile and train a model\n",
        "vae = VAE(**args)\n",
        "vae.compile(optimizer=keras.optimizers.Adam())\n",
        "\n",
        "with tf.device(device_name):\n",
        "    vae.fit(**args)"
      ],
      "metadata": {
        "id": "6o_2nrNqOImR"
      },
      "execution_count": null,
      "outputs": []
    },
    {
      "cell_type": "markdown",
      "source": [
        "## Task 2.4: Discussion\n",
        "\n",
        "1. **How does the reparameterization trick enable VAEs to generate diverse and realistic samples in the latent space?**\n",
        "2. **In the absence of the reparameterization trick, how would training VAEs differ, and what impact would it have on the overall model performance?**"
      ],
      "metadata": {
        "id": "c-qPdgcRWG1m"
      }
    },
    {
      "cell_type": "code",
      "source": [
        "# Discuss"
      ],
      "metadata": {
        "id": "6eiYrq12WGVm"
      },
      "execution_count": null,
      "outputs": []
    },
    {
      "cell_type": "markdown",
      "source": [
        "\n",
        "\n",
        "---\n",
        "\n"
      ],
      "metadata": {
        "id": "R8ngB5GCybB4"
      }
    },
    {
      "cell_type": "markdown",
      "source": [
        "# Task 3: Generate data\n",
        "- Due to the probabilistic nature of VAEs, they can generate new data points by sampling from the learned latent space. By sampling from the latent distribution, the VAE can produce new data points that are similar to the training data but not identical to any specific input in the dataset.\n"
      ],
      "metadata": {
        "id": "Bj9YaEA8yc7O"
      }
    },
    {
      "cell_type": "markdown",
      "source": [
        "## Task 3.1 Reconstruct sample by sampling the latent space\n",
        "- Encode and decode a set of images\n",
        "\n",
        "\n",
        "\n",
        "```\n",
        "data_subset = np.stack(list(test_ds.take(1))).squeeze(0)[0]\n",
        "reconstructed_image = Decode(Encode(data_subset)[0])\n",
        "```\n",
        "\n"
      ],
      "metadata": {
        "id": "j4NmI2KZykm5"
      }
    },
    {
      "cell_type": "code",
      "source": [
        "# Visualize"
      ],
      "metadata": {
        "id": "a5la1tW6O_G4"
      },
      "execution_count": null,
      "outputs": []
    },
    {
      "cell_type": "markdown",
      "source": [
        "## Task 3.2 Generate new sample from a normal (Gaussian) distribution\n",
        "- Decode an image from a random sample distribution (of same dimensions!)\n",
        "\n",
        "\n",
        "\n",
        "```\n",
        "z_distribution = np.random.normal(loc=tf.reduce_mean(z), scale=tf.square(tf.reduce_mean(z_var)), size=(1,128))\n",
        "generated_image = Decode(z_distribution)\n",
        "```\n",
        "\n"
      ],
      "metadata": {
        "id": "d3xzy1SXyk7O"
      }
    },
    {
      "cell_type": "code",
      "source": [
        "# Visualize"
      ],
      "metadata": {
        "id": "kveRug2HYziz"
      },
      "execution_count": null,
      "outputs": []
    },
    {
      "cell_type": "markdown",
      "source": [
        "## Task 3.3 Modify sample generation with desired attributes\n",
        "- VAE learns a probability distribution of possible latent representations. By conditioning the space on desired attributes we can compare output from the two latent probability spaces (with and without the desired attribute.)\n",
        "- Celeb A dataset comes with a set of hand annotated features for each image\n",
        "- By building a latent space conditioned on a selected feature, the desired attribute should be prominent\n",
        "\n",
        "\n"
      ],
      "metadata": {
        "id": "HVdujnvIylkF"
      }
    },
    {
      "cell_type": "code",
      "source": [
        "%%html\n",
        "<iframe src=\"https://drive.google.com/file/d/1z4OVK9yWa-4Q-Rjsok7ET6gJGiXYKi_K/preview\" width=\"640\" height=\"480\" allow=\"autoplay\"></iframe>"
      ],
      "metadata": {
        "id": "eQoSNlP3efQL",
        "colab": {
          "base_uri": "https://localhost:8080/",
          "height": 505
        },
        "outputId": "4e02d95c-3f80-4596-b2e7-1495c6265ece"
      },
      "execution_count": null,
      "outputs": [
        {
          "output_type": "display_data",
          "data": {
            "text/plain": [
              "<IPython.core.display.HTML object>"
            ],
            "text/html": [
              "<iframe src=\"https://drive.google.com/file/d/1z4OVK9yWa-4Q-Rjsok7ET6gJGiXYKi_K/preview\" width=\"640\" height=\"480\" allow=\"autoplay\"></iframe>\n"
            ]
          },
          "metadata": {}
        }
      ]
    },
    {
      "cell_type": "markdown",
      "source": [
        "By adding the following to your **preprocessing function**, we can use the desired attributes as label to train a model with spesific properties.\n",
        "```\n",
        "if mode == 'attributes':\n",
        "    img = example['image']\n",
        "    attri = example['attributes']\n",
        "    if attri[att]:\n",
        "        label = 1\n",
        "    else:\n",
        "        label = 0\n",
        "    img = tf.image.resize(img, size=size)/255.0\n",
        "    return img, label\n",
        "```"
      ],
      "metadata": {
        "id": "dG8Ugwaee7Vy"
      }
    },
    {
      "cell_type": "code",
      "source": [
        "train_att = celeba_train.map(lambda x: **args)\n",
        "train_att = train_att.batch(BATCH_SIZE)\n",
        "train_att = train_att.take(20)"
      ],
      "metadata": {
        "id": "8XhPwPKAWK5J"
      },
      "execution_count": null,
      "outputs": []
    },
    {
      "cell_type": "markdown",
      "source": [
        "Having defined the images with and without desired attribute, can can seperate them into two subset for training."
      ],
      "metadata": {
        "id": "1uTycIsjWeAX"
      }
    },
    {
      "cell_type": "code",
      "source": [
        "# Sorting relevant images\n",
        "img_with = []\n",
        "img_without = []\n",
        "for images, labels in train_att:\n",
        "    for i in range(BATCH_SIZE):\n",
        "        if labels[i]==1:\n",
        "            img_with.append(images[i])\n",
        "        else:\n",
        "            img_without.append(images[i])\n",
        "img_with, img_without = np.array(img_with), np.array(img_without)"
      ],
      "metadata": {
        "id": "ZFqtR1PWTQ79"
      },
      "execution_count": null,
      "outputs": []
    },
    {
      "cell_type": "code",
      "source": [
        "# Designing the latent space with desired attributes\n",
        "_, z_mean_with, _ = enc(img_with)\n",
        "attribute_vector = tf.reduce_mean(z_mean_with, axis=0,keepdims=True)"
      ],
      "metadata": {
        "id": "mVanO97BUPKu"
      },
      "execution_count": null,
      "outputs": []
    },
    {
      "cell_type": "code",
      "source": [
        "# Visualizing resutls\n",
        "n_examples = 5\n",
        "beta = 20\n",
        "\n",
        "# Original encoding\n",
        "og_enc = enc(img_without)[2]\n",
        "\n",
        "# Alternative encoding conditioning on desired attributes. Beta is a conditioning hyperparameter.\n",
        "att_enc = og_enc + beta*attribute_vector\n",
        "\n",
        "f, axs = plt.subplots(3, n_examples, figsize=(16, 6))\n",
        "\n",
        "axs[0, n_examples // 2].set_title(\"Original images\")\n",
        "axs[1, n_examples // 2].set_title(\"Reconstructed images\")\n",
        "axs[2, n_examples // 2].set_title(\"Images with added attribute\")\n",
        "for j in range(n_examples):\n",
        "\n",
        "    # Original image without attribute\n",
        "    axs[0, j].imshow(img_without[j])\n",
        "\n",
        "    # Reconstruction orignal latent space\n",
        "    axs[1, j].imshow(dec(og_enc)[j])\n",
        "\n",
        "    # Reconstructed conditioned latent space\n",
        "    axs[2, j].imshow(dec(att_enc)[j])\n",
        "    for ax in axs[:, j]: ax.axis('off')\n",
        "\n",
        "plt.tight_layout();"
      ],
      "metadata": {
        "id": "lfhCpwGEW3ta"
      },
      "execution_count": null,
      "outputs": []
    },
    {
      "cell_type": "markdown",
      "source": [
        "## Task 3.4 Interpolation between points in the latent space"
      ],
      "metadata": {
        "id": "4ArtdDVqXLbs"
      }
    },
    {
      "cell_type": "markdown",
      "source": [
        "Interpolating the latent space of a generative machine learning model involves smoothly transitioning between different points in the latent space to generate new samples.\n",
        "\n",
        "For example, in a model trained on images of faces, interpolating in the latent space would involve finding a path between two latent vectors corresponding to two different faces. As we traverse this path, the model generates images that morph gradually from one face to the other. This process allows us to create novel samples that possess characteristics of both original data points.\n",
        "\n",
        "Overall, latent space interpolation provides a powerful tool for generating diverse and realistic data samples, enabling the model to create entirely new outputs that blend characteristics of the training data."
      ],
      "metadata": {
        "id": "JlIRqNuPZEqV"
      }
    },
    {
      "cell_type": "code",
      "source": [
        "%%html\n",
        "<iframe src=\"https://drive.google.com/file/d/18qEB5YoxNpDqYyHgGXo0QZpx-VHNjWEb/preview\" width=\"640\" height=\"480\" allow=\"autoplay\"></iframe>"
      ],
      "metadata": {
        "colab": {
          "base_uri": "https://localhost:8080/",
          "height": 504
        },
        "id": "wu_KOsBAY41i",
        "outputId": "5bc1e29a-2a31-4f0a-a047-d73c92efc9b1"
      },
      "execution_count": null,
      "outputs": [
        {
          "output_type": "display_data",
          "data": {
            "text/plain": [
              "<IPython.core.display.HTML object>"
            ],
            "text/html": [
              "<iframe src=\"https://drive.google.com/file/d/18qEB5YoxNpDqYyHgGXo0QZpx-VHNjWEb/preview\" width=\"640\" height=\"480\" allow=\"autoplay\"></iframe>\n"
            ]
          },
          "metadata": {}
        }
      ]
    },
    {
      "cell_type": "markdown",
      "source": [
        "Run the following code"
      ],
      "metadata": {
        "id": "xxZDuycAewIe"
      }
    },
    {
      "cell_type": "code",
      "source": [
        "# Uniform interpolation between two points in latent space\n",
        "def interpolate_points(p1, p2, n_steps=5):\n",
        "    ratios = np.linspace(0, 1, num=n_steps)\n",
        "    # linear interpolate vectors\n",
        "    vectors = list()\n",
        "    for ratio in ratios:\n",
        "        v = (1.0 - ratio) * p1 + ratio * p2\n",
        "        vectors.append(v)\n",
        "    return asarray(vectors)"
      ],
      "metadata": {
        "id": "_fZIQMMNZlrl"
      },
      "execution_count": null,
      "outputs": []
    },
    {
      "cell_type": "code",
      "source": [
        "def create_interpolated_sampels():\n",
        "    num_steps = 8\n",
        "    step_size = 1.0 / num_steps\n",
        "\n",
        "    sample_a = None\n",
        "    sample_b = None\n",
        "\n",
        "    # retriving data that corresponded to the class indices\n",
        "    for i, data in enumerate(train_att):\n",
        "        img, label = data\n",
        "        sample_a = img[i] if label[i] == 1 else None\n",
        "        sample_b = img[i] if label[i] == 0 else None\n",
        "        if sample_a != None and sample_b != None:\n",
        "            break\n",
        "\n",
        "    sample_a = tf.reshape(sample_a, [1,img_h,img_w,3])\n",
        "    sample_b = tf.reshape(sample_b, [1,img_h,img_w,3])\n",
        "\n",
        "    # encoding both images to get sampled z values of both classes\n",
        "    z_a = np.array(enc(sample_a)[0])#.reshape(1, -1)\n",
        "    z_b = np.array(enc(sample_b)[0])#.reshape(1, -1)\n",
        "\n",
        "\n",
        "    # interpolation\n",
        "    diff = z_b - z_a\n",
        "    steps = np.array(tf.range(0.0, 1.0+step_size, step_size))#.reshape(-1, 1)\n",
        "    zs = []\n",
        "    for i in steps:\n",
        "        zs.append(z_a + (i * diff))\n",
        "    zs = np.array(zs).reshape(-1, len(sample_a), 128)\n",
        "\n",
        "    out_imgs = []\n",
        "    for j in range(len(zs)):\n",
        "        out_imgs.append(dec(zs[j]))\n",
        "\n",
        "    return out_imgs"
      ],
      "metadata": {
        "id": "CYwygq48Zr5x"
      },
      "execution_count": null,
      "outputs": []
    },
    {
      "cell_type": "code",
      "source": [
        "interpol_img = create_interpolated_sampels()\n",
        "fig, ax = plt.subplots(1, len(interpol_img), figsize=(15,15))\n",
        "for img in range(len(interpol_img)):\n",
        "    ax[img].imshow(interpol_img[img][0])\n",
        "    ax[img].axis('off')"
      ],
      "metadata": {
        "id": "HxJ5oGPbaBJs"
      },
      "execution_count": null,
      "outputs": []
    },
    {
      "cell_type": "markdown",
      "source": [
        "\n",
        "\n",
        "---\n",
        "\n"
      ],
      "metadata": {
        "id": "YGg_03LH1_TC"
      }
    },
    {
      "cell_type": "markdown",
      "source": [
        "# Task 4: Bonus\n",
        "Use your trained network to manipulate a selfi of yourself by altering an attribute (i.e. smile,  hair style, eyes, etc.)"
      ],
      "metadata": {
        "id": "vnX6fI1Z2AFS"
      }
    },
    {
      "cell_type": "code",
      "source": [
        "# Load image\n",
        "test_img = PIL.Image.open(My Drive/Path to your image)\n",
        "\n",
        "# Resize to fit model\n",
        "test_img = test_img.resize((img_h,img_w),PIL.Image.ANTIALIAS)#.rotate(270)\n",
        "\n",
        "# Convert to machine readable input\n",
        "test_img = np.expand_dims(np.array(test_img)/255, 0)"
      ],
      "metadata": {
        "id": "38fmabsSTuRX"
      },
      "execution_count": null,
      "outputs": []
    },
    {
      "cell_type": "code",
      "source": [
        "# Encode image"
      ],
      "metadata": {
        "id": "QiTllQM0ks7N"
      },
      "execution_count": null,
      "outputs": []
    },
    {
      "cell_type": "code",
      "source": [
        "# Plot images\n",
        "fig, ax = plt.subplots(1, 3, figsize=(8,8))\n",
        "\n",
        "# Orignal image\n",
        "ax[0].imshow(test_img[0])\n",
        "\n",
        "# Reconstructed from orignal space\n",
        "ax[1].imshow(dec(z_mean)[0])\n",
        "\n",
        "# Reconstructed from manioulated space\n",
        "ax[2].imshow(dec(z_mean+3*attribute_vector)[0])\n",
        "\n",
        "ax[1].axis('off')\n",
        "ax[0].axis('off')\n",
        "ax[2].axis('off')\n",
        "ax[0].set_title('Original')\n",
        "ax[1].set_title('Reconstructed')\n",
        "ax[2].set_title('With attributes')"
      ],
      "metadata": {
        "id": "eq-4ZVPmk39U"
      },
      "execution_count": null,
      "outputs": []
    }
  ]
}